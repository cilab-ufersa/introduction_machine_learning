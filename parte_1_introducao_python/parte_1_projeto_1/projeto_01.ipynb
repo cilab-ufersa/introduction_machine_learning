{
  "cells": [
    {
      "cell_type": "markdown",
      "metadata": {
        "id": "ZHJEPvzxaXDI"
      },
      "source": [
        "# Projeto 01: Fuga da Prisão\n",
        "\n",
        "Vamos trabalhar com um conjunto de dados de fugas de prisões de helicóptero!"
      ]
    },
    {
      "cell_type": "markdown",
      "metadata": {
        "id": "xeuKMUX_aXDL"
      },
      "source": [
        "Começamos importando algumas funções auxiliares."
      ]
    },
    {
      "cell_type": "code",
      "execution_count": null,
      "metadata": {
        "id": "vMJVoMPpaXDR"
      },
      "outputs": [],
      "source": [
        "from helper import *"
      ]
    },
    {
      "cell_type": "markdown",
      "metadata": {
        "id": "WaS4LybdaXDT"
      },
      "source": [
        "## Parte 01: Obtendo os dados"
      ]
    },
    {
      "cell_type": "markdown",
      "metadata": {
        "id": "BgCX9h-KaXDU"
      },
      "source": [
        "\n",
        "Agora, vamos obter os dados da Lista de fugas de helicópteros da Wikipédia. [List of helicopter prison escapes](https://en.wikipedia.org/wiki/List_of_helicopter_prison_escapes) "
      ]
    },
    {
      "cell_type": "code",
      "execution_count": null,
      "metadata": {
        "id": "1mIAmtQwaXDW"
      },
      "outputs": [],
      "source": [
        "url = \"https://en.wikipedia.org/wiki/List_of_helicopter_prison_escapes\"\n",
        "data = data_from_url(url)"
      ]
    },
    {
      "cell_type": "markdown",
      "metadata": {
        "id": "6b4wRbnUaXDX"
      },
      "source": [
        "Vamos imprimir as três primeiras linhas."
      ]
    },
    {
      "cell_type": "code",
      "execution_count": null,
      "metadata": {
        "tags": [],
        "colab": {
          "base_uri": "https://localhost:8080/"
        },
        "id": "FQD2-El4aXDZ",
        "outputId": "1d5dbd1e-c29f-4dba-91c6-cc4da4acb1b2"
      },
      "outputs": [
        {
          "output_type": "stream",
          "name": "stdout",
          "text": [
            "['August 19, 1971', 'Santa Martha Acatitla', 'Mexico', 'Yes', 'Joel David Kaplan Carlos Antonio Contreras Castro', \"Joel David Kaplan was a New York businessman who had been arrested for murder in 1962 in Mexico City and was incarcerated at the Santa Martha Acatitla prison in the Iztapalapa borough of Mexico City. Joel's sister, Judy Kaplan, arranged the means to help Kaplan escape, and on August 19, 1971, a helicopter landed in the prison yard. The guards mistakenly thought this was an official visit. In two minutes, Kaplan and his cellmate Carlos Antonio Contreras, a Venezuelan counterfeiter, were able to board the craft and were piloted away, before any shots were fired.[9] Both men were flown to Texas and then different planes flew Kaplan to California and Castro to Guatemala.[3] The Mexican government never initiated extradition proceedings against Kaplan.[9] The escape is told in a book, The 10-Second Jailbreak: The Helicopter Escape of Joel David Kaplan.[4] It also inspired the 1975 action movie Breakout, which starred Charles Bronson and Robert Duvall.[9]\"]\n",
            "['October 31, 1973', 'Mountjoy Jail', 'Ireland', 'Yes', \"JB O'Hagan Seamus TwomeyKevin Mallon\", 'On October 31, 1973 an IRA member hijacked a helicopter and forced the pilot to land in the exercise yard of Dublin\\'s Mountjoy Jail\\'s D Wing at 3:40\\xa0p.m., October 31, 1973. Three members of the IRA were able to escape: JB O\\'Hagan, Seamus Twomey and Kevin Mallon. Another prisoner who also was in the prison was quoted as saying, \"One shamefaced screw apologised to the governor and said he thought it was the new Minister for Defence (Paddy Donegan) arriving. I told him it was our Minister of Defence leaving.\" The Mountjoy helicopter escape became Republican lore and was immortalized by \"The Helicopter Song\", which contains the lines \"It\\'s up like a bird and over the city. There\\'s three men a\\'missing I heard the warder say\".[1]']\n",
            "['May 24, 1978', 'United States Penitentiary, Marion', 'United States', 'No', 'Garrett Brock TrapnellMartin Joseph McNallyJames Kenneth Johnson', \"43-year-old Barbara Ann Oswald hijacked a Saint Louis-based charter helicopter and forced the pilot to land in the yard at USP Marion. While landing the aircraft, the pilot, Allen Barklage, who was a Vietnam War veteran, struggled with Oswald and managed to wrestle the gun away from her. Barklage then shot and killed Oswald, thwarting the escape.[10] A few months later Oswald's daughter hijacked TWA Flight 541 in an effort to free Trapnell.\"]\n"
          ]
        }
      ],
      "source": [
        "for row in data[:3]:\n",
        "    print(row)"
      ]
    },
    {
      "cell_type": "markdown",
      "metadata": {
        "id": "mEwv2lmTaXDc"
      },
      "source": [
        "## Parte 02: Tratar os dados\n",
        "\n",
        "### Removendo os detalhes"
      ]
    },
    {
      "cell_type": "markdown",
      "metadata": {
        "id": "cY95FnFRaXDd"
      },
      "source": [
        "Inicializamos uma variável `index` com o valor de `0`. O objetivo dessa variável é nos ajudar a rastrear qual linha estamos modificando."
      ]
    },
    {
      "cell_type": "code",
      "execution_count": null,
      "metadata": {
        "id": "pqlE7euUaXDf"
      },
      "outputs": [],
      "source": [
        "index = 0\n",
        "for row in data:\n",
        "    data[index] = row[:-1]\n",
        "    index += 1"
      ]
    },
    {
      "cell_type": "code",
      "execution_count": null,
      "metadata": {
        "colab": {
          "base_uri": "https://localhost:8080/"
        },
        "id": "WUcqaBTOaXDi",
        "outputId": "6a6c2bb4-6499-48db-d3e9-758e88852746"
      },
      "outputs": [
        {
          "output_type": "stream",
          "name": "stdout",
          "text": [
            "[['August 19, 1971', 'Santa Martha Acatitla', 'Mexico', 'Yes', 'Joel David Kaplan Carlos Antonio Contreras Castro'], ['October 31, 1973', 'Mountjoy Jail', 'Ireland', 'Yes', \"JB O'Hagan Seamus TwomeyKevin Mallon\"], ['May 24, 1978', 'United States Penitentiary, Marion', 'United States', 'No', 'Garrett Brock TrapnellMartin Joseph McNallyJames Kenneth Johnson']]\n"
          ]
        }
      ],
      "source": [
        "print(data[:3])"
      ]
    },
    {
      "cell_type": "markdown",
      "metadata": {
        "id": "IZjKKSxfaXDk"
      },
      "source": [
        "### Extraindo o ano"
      ]
    },
    {
      "cell_type": "markdown",
      "metadata": {
        "id": "RreCkvoeaXDl"
      },
      "source": [
        "Na célula de código abaixo, iteramos sobre `data` usando a variável iterável `row` e:\n",
        "\n",
        "-  Com cada ocorrência de `row[0]`, nos referimos à primeira entrada de `row`, ou seja, a data (date).\n",
        "-  Assim, com `date = fetch_year(row[0])`, estamos extraindo o ano da data em `row[0]` e atribuindo-o à variável `date`.\n",
        "- Em seguida, substituímos o valor de `row[0]` pelo ano que acabamos de extrair."
      ]
    },
    {
      "cell_type": "code",
      "execution_count": null,
      "metadata": {
        "tags": [],
        "id": "nkdcnc9RaXDl"
      },
      "outputs": [],
      "source": [
        "for row in data:\n",
        "    date = fetch_year(row[0])\n",
        "    row[0] = date"
      ]
    },
    {
      "cell_type": "code",
      "execution_count": null,
      "metadata": {
        "colab": {
          "base_uri": "https://localhost:8080/"
        },
        "id": "JEEdI7raaXDn",
        "outputId": "812bd18c-34d6-461e-c9f5-f70a3d2ee8b9"
      },
      "outputs": [
        {
          "output_type": "stream",
          "name": "stdout",
          "text": [
            "[[1971, 'Santa Martha Acatitla', 'Mexico', 'Yes', 'Joel David Kaplan Carlos Antonio Contreras Castro'], [1973, 'Mountjoy Jail', 'Ireland', 'Yes', \"JB O'Hagan Seamus TwomeyKevin Mallon\"], [1978, 'United States Penitentiary, Marion', 'United States', 'No', 'Garrett Brock TrapnellMartin Joseph McNallyJames Kenneth Johnson']]\n"
          ]
        }
      ],
      "source": [
        "print(data[:3])"
      ]
    },
    {
      "cell_type": "markdown",
      "metadata": {
        "id": "csNvx5u9aXDp"
      },
      "source": [
        "### Tentativas por ano"
      ]
    },
    {
      "cell_type": "code",
      "execution_count": null,
      "metadata": {
        "id": "tBvk6oSqaXDp"
      },
      "outputs": [],
      "source": [
        "min_year = min(data, key=lambda x: x[0])[0]\n",
        "max_year = max(data, key=lambda x: x[0])[0]"
      ]
    },
    {
      "cell_type": "markdown",
      "metadata": {
        "id": "PDPQoNExaXDq"
      },
      "source": [
        "Antes de prosseguirmos, vamos verificar quais são as datas mais antigas e mais recentes que temos em nosso conjunto de dados."
      ]
    },
    {
      "cell_type": "code",
      "execution_count": null,
      "metadata": {
        "colab": {
          "base_uri": "https://localhost:8080/"
        },
        "id": "aqTNss4HaXDq",
        "outputId": "42d8b01b-61f6-49ee-82b1-8287c2dc89d8"
      },
      "outputs": [
        {
          "output_type": "stream",
          "name": "stdout",
          "text": [
            "1971\n",
            "2020\n"
          ]
        }
      ],
      "source": [
        "print(min_year)\n",
        "print(max_year)"
      ]
    },
    {
      "cell_type": "markdown",
      "metadata": {
        "id": "79XqeHLMaXDr"
      },
      "source": [
        "Agora vamos criar uma lista de todos os anos variando de `min_year` a `max_year`. Nosso objetivo é então determinar quantas tentativas de fuga da prisão ocorreram em cada ano. Como os anos em que não houve fugas de prisão não estão presentes no conjunto de dados, isso garantirá que os capturemos."
      ]
    },
    {
      "cell_type": "code",
      "execution_count": null,
      "metadata": {
        "id": "GUAskRcEaXDs"
      },
      "outputs": [],
      "source": [
        "years = []\n",
        "for y in range(min_year, max_year + 1):\n",
        "    years.append(y)"
      ]
    },
    {
      "cell_type": "markdown",
      "metadata": {
        "id": "Jyqwn5e6aXDt"
      },
      "source": [
        "Vamos dar uma olhada em `years` para ver se parece com o que esperávamos."
      ]
    },
    {
      "cell_type": "code",
      "execution_count": null,
      "metadata": {
        "colab": {
          "base_uri": "https://localhost:8080/"
        },
        "id": "MWLbAq2JaXDt",
        "outputId": "b1e902eb-b7d2-421c-ec7b-15161b620c25"
      },
      "outputs": [
        {
          "output_type": "stream",
          "name": "stdout",
          "text": [
            "[1971, 1972, 1973, 1974, 1975, 1976, 1977, 1978, 1979, 1980, 1981, 1982, 1983, 1984, 1985, 1986, 1987, 1988, 1989, 1990, 1991, 1992, 1993, 1994, 1995, 1996, 1997, 1998, 1999, 2000, 2001, 2002, 2003, 2004, 2005, 2006, 2007, 2008, 2009, 2010, 2011, 2012, 2013, 2014, 2015, 2016, 2017, 2018, 2019, 2020]\n"
          ]
        }
      ],
      "source": [
        "print(years)"
      ]
    },
    {
      "cell_type": "markdown",
      "metadata": {
        "id": "nJI44zIDaXDv"
      },
      "source": [
        "Ótimo!"
      ]
    },
    {
      "cell_type": "markdown",
      "metadata": {
        "id": "uwUnmQLbaXDw"
      },
      "source": [
        "Agora criamos uma lista onde cada elemento será`[<year>, 0]`."
      ]
    },
    {
      "cell_type": "code",
      "execution_count": null,
      "metadata": {
        "id": "r5kUSh-zaXDx"
      },
      "outputs": [],
      "source": [
        "attempts_per_year = []\n",
        "for y in years:\n",
        "    attempts_per_year.append([y, 0])"
      ]
    },
    {
      "cell_type": "markdown",
      "metadata": {
        "id": "CQyYJQ23aXDy"
      },
      "source": [
        "E finalmente incrementamos a segunda entrada (a do índice `1` que começa como sendo `0`) em `1` cada vez que um ano aparece nos dados."
      ]
    },
    {
      "cell_type": "code",
      "execution_count": null,
      "metadata": {
        "colab": {
          "base_uri": "https://localhost:8080/"
        },
        "id": "RzY-_qEmaXDy",
        "outputId": "ddb8028f-112e-4313-b676-798dcc6caa49"
      },
      "outputs": [
        {
          "output_type": "stream",
          "name": "stdout",
          "text": [
            "[[1971, 1], [1972, 0], [1973, 1], [1974, 0], [1975, 0], [1976, 0], [1977, 0], [1978, 1], [1979, 0], [1980, 0], [1981, 2], [1982, 0], [1983, 1], [1984, 0], [1985, 2], [1986, 3], [1987, 1], [1988, 1], [1989, 2], [1990, 1], [1991, 1], [1992, 2], [1993, 1], [1994, 0], [1995, 0], [1996, 1], [1997, 1], [1998, 0], [1999, 1], [2000, 2], [2001, 3], [2002, 2], [2003, 1], [2004, 0], [2005, 2], [2006, 1], [2007, 3], [2008, 0], [2009, 3], [2010, 1], [2011, 0], [2012, 1], [2013, 2], [2014, 1], [2015, 0], [2016, 1], [2017, 0], [2018, 1], [2019, 0], [2020, 1]]\n"
          ]
        }
      ],
      "source": [
        "for row in data:\n",
        "    for ya in attempts_per_year:\n",
        "        y = ya[0]\n",
        "        if row[0] == y:\n",
        "            ya[1] += 1\n",
        "            \n",
        "print(attempts_per_year)    "
      ]
    },
    {
      "cell_type": "markdown",
      "source": [
        "## Gráfico \n",
        "\n",
        "Para visualizar os resultados, vamos plotar um gráfico do tipo barra."
      ],
      "metadata": {
        "id": "CyTHTguJcC2Z"
      }
    },
    {
      "cell_type": "code",
      "execution_count": null,
      "metadata": {
        "colab": {
          "base_uri": "https://localhost:8080/",
          "height": 846
        },
        "id": "jkOkcHUiaXDy",
        "outputId": "9785c887-e6e9-42e8-a95c-fd7cdee9f510"
      },
      "outputs": [
        {
          "output_type": "display_data",
          "data": {
            "text/plain": [
              "<Figure size 648x1080 with 1 Axes>"
            ],
            "image/png": "[encoded data removed]"
          },
          "metadata": {
            "needs_background": "light"
          }
        }
      ],
      "source": [
        "%matplotlib inline\n",
        "barplot(attempts_per_year)"
      ]
    },
    {
      "cell_type": "markdown",
      "metadata": {
        "id": "2_JpxLDvaXDz"
      },
      "source": [
        "De acordo com o gráfico, podemos visualizar que os anos em que ocorreram mais tentativas de fuga de helicóptero foram 1986, 2001, 2007 e 2009, com um total de três tentativas cada."
      ]
    },
    {
      "cell_type": "markdown",
      "metadata": {
        "id": "uQdiWlR9aXD0"
      },
      "source": [
        "# Tentativas por país"
      ]
    },
    {
      "cell_type": "code",
      "execution_count": null,
      "metadata": {
        "colab": {
          "base_uri": "https://localhost:8080/",
          "height": 520
        },
        "id": "yYJ2Z4f2aXD1",
        "outputId": "02a5074b-b9b7-43de-9ac5-f0ef5aa05c6b"
      },
      "outputs": [
        {
          "output_type": "display_data",
          "data": {
            "text/plain": [
              "<IPython.core.display.HTML object>"
            ],
            "text/html": [
              "<table border=\"1\" class=\"dataframe\">\n",
              "  <thead>\n",
              "    <tr style=\"text-align: right;\">\n",
              "      <th>Country</th>\n",
              "      <th>Number of Occurrences</th>\n",
              "    </tr>\n",
              "  </thead>\n",
              "  <tbody>\n",
              "    <tr>\n",
              "      <td>France</td>\n",
              "      <td>15</td>\n",
              "    </tr>\n",
              "    <tr>\n",
              "      <td>United States</td>\n",
              "      <td>8</td>\n",
              "    </tr>\n",
              "    <tr>\n",
              "      <td>Canada</td>\n",
              "      <td>4</td>\n",
              "    </tr>\n",
              "    <tr>\n",
              "      <td>Greece</td>\n",
              "      <td>4</td>\n",
              "    </tr>\n",
              "    <tr>\n",
              "      <td>Belgium</td>\n",
              "      <td>4</td>\n",
              "    </tr>\n",
              "    <tr>\n",
              "      <td>Australia</td>\n",
              "      <td>2</td>\n",
              "    </tr>\n",
              "    <tr>\n",
              "      <td>Brazil</td>\n",
              "      <td>2</td>\n",
              "    </tr>\n",
              "    <tr>\n",
              "      <td>United Kingdom</td>\n",
              "      <td>2</td>\n",
              "    </tr>\n",
              "    <tr>\n",
              "      <td>Mexico</td>\n",
              "      <td>1</td>\n",
              "    </tr>\n",
              "    <tr>\n",
              "      <td>Ireland</td>\n",
              "      <td>1</td>\n",
              "    </tr>\n",
              "    <tr>\n",
              "      <td>Italy</td>\n",
              "      <td>1</td>\n",
              "    </tr>\n",
              "    <tr>\n",
              "      <td>Puerto Rico</td>\n",
              "      <td>1</td>\n",
              "    </tr>\n",
              "    <tr>\n",
              "      <td>Chile</td>\n",
              "      <td>1</td>\n",
              "    </tr>\n",
              "    <tr>\n",
              "      <td>Netherlands</td>\n",
              "      <td>1</td>\n",
              "    </tr>\n",
              "    <tr>\n",
              "      <td>Russia</td>\n",
              "      <td>1</td>\n",
              "    </tr>\n",
              "  </tbody>\n",
              "</table>"
            ]
          },
          "metadata": {}
        }
      ],
      "source": [
        "countries_frequency = df.groupby(\"Country\")\n",
        "print_pretty_table(countries_frequency)"
      ]
    },
    {
      "cell_type": "markdown",
      "metadata": {
        "id": "3buyOQ_kaXD3"
      },
      "source": [
        "De longe, o país com mais tentativas de fuga de prisão por helicóptero é a França."
      ]
    }
  ],
  "metadata": {
    "kernelspec": {
      "display_name": "Python 3",
      "language": "python",
      "name": "python3"
    },
    "language_info": {
      "codemirror_mode": {
        "name": "ipython",
        "version": 3
      },
      "file_extension": ".py",
      "mimetype": "text/x-python",
      "name": "python",
      "nbconvert_exporter": "python",
      "pygments_lexer": "ipython3",
      "version": "3.8.2"
    },
    "colab": {
      "provenance": []
    }
  },
  "nbformat": 4,
  "nbformat_minor": 0
}