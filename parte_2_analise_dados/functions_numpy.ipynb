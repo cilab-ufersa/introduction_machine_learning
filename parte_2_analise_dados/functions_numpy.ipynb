{
  "nbformat": 4,
  "nbformat_minor": 0,
  "metadata": {
    "colab": {
      "provenance": []
    },
    "kernelspec": {
      "name": "python3",
      "display_name": "Python 3"
    },
    "language_info": {
      "name": "python"
    }
  },
  "cells": [
    {
      "cell_type": "markdown",
      "source": [
        "O NumPy é uma biblioteca de código aberto para a linguagem de programação Python, que é usada principalmente para computação científica e análise de dados. O NumPy é projetado para trabalhar com matrizes e vetores, tornando-o uma ferramenta poderosa para tarefas como processamento de imagens, aprendizado de máquina e outras áreas de ciência de dados."
      ],
      "metadata": {
        "id": "PWjUdXlM0xEx"
      }
    },
    {
      "cell_type": "markdown",
      "source": [
        "np.array(): A função np.array() é usada para criar arrays NumPy. Ela pode receber uma lista Python ou uma sequência como entrada e retorna um array NumPy."
      ],
      "metadata": {
        "id": "Mfi2fZr-1xy5"
      }
    },
    {
      "cell_type": "code",
      "execution_count": null,
      "metadata": {
        "colab": {
          "base_uri": "https://localhost:8080/"
        },
        "id": "sTr7INXj0t0f",
        "outputId": "bb629333-3f09-46aa-847f-c8ec9c11c91f"
      },
      "outputs": [
        {
          "output_type": "stream",
          "name": "stdout",
          "text": [
            "[1 2 3 4 5]\n"
          ]
        }
      ],
      "source": [
        "import numpy as np\n",
        "\n",
        "a = np.array([1, 2, 3, 4, 5])\n",
        "print(a)\n"
      ]
    },
    {
      "cell_type": "markdown",
      "source": [
        "Indexação e slicing:\n",
        "Você pode acessar elementos específicos de um array NumPy usando a indexação. Por exemplo, a[0] retorna o primeiro elemento do array a. Você também pode usar o slicing para acessar subconjuntos do array, por exemplo, a[1:3] retorna uma nova matriz contendo os elementos 2 e 3 de a."
      ],
      "metadata": {
        "id": "C-kuDOSj1Ebe"
      }
    },
    {
      "cell_type": "markdown",
      "source": [
        "np.arange(): A função np.arange() é usada para criar um array com valores espaçados uniformemente dentro de um intervalo especificado. Por exemplo, np.arange(0, 10, 2) cria um array com valores 0, 2, 4, 6 e 8."
      ],
      "metadata": {
        "id": "yM4c67yR157U"
      }
    },
    {
      "cell_type": "code",
      "source": [
        "# Criando um array com valores espaçados uniformemente\n",
        "c = np.arange(0, 10, 2)\n",
        "print(c)  # output: [0 2 4 6 8]"
      ],
      "metadata": {
        "colab": {
          "base_uri": "https://localhost:8080/"
        },
        "id": "7ve2kRFs13R3",
        "outputId": "b42e4c92-5b40-48cb-9625-a6c7f800678a"
      },
      "execution_count": null,
      "outputs": [
        {
          "output_type": "stream",
          "name": "stdout",
          "text": [
            "[0 2 4 6 8]\n"
          ]
        }
      ]
    },
    {
      "cell_type": "markdown",
      "source": [
        "np.linspace(): A função np.linspace() é usada para criar um array com valores espaçados uniformemente entre dois limites. Por exemplo, np.linspace(0, 1, 5) cria um array com valores 0, 0.25, 0.5, 0.75 e 1."
      ],
      "metadata": {
        "id": "0VxpQi_V19j6"
      }
    },
    {
      "cell_type": "code",
      "source": [
        "# Criando um array com valores espaçados uniformemente entre dois limites\n",
        "d = np.linspace(0, 1, 5)\n",
        "print(d)  # output: [0.   0.25 0.5  0.75 1.  ]"
      ],
      "metadata": {
        "colab": {
          "base_uri": "https://localhost:8080/"
        },
        "id": "55D7w9Vg2Acx",
        "outputId": "b8894289-dc29-4fe9-e4e5-b183eb5f290d"
      },
      "execution_count": null,
      "outputs": [
        {
          "output_type": "stream",
          "name": "stdout",
          "text": [
            "[0.   0.25 0.5  0.75 1.  ]\n"
          ]
        }
      ]
    },
    {
      "cell_type": "markdown",
      "source": [
        "np.zeros() e np.ones(): As funções np.zeros() e np.ones() são usadas para criar arrays de zeros e uns, respectivamente, com a forma especificada. Por exemplo, np.zeros((3, 4)) cria um array de zeros com a forma 3x4."
      ],
      "metadata": {
        "id": "MQvYHmyH2E3z"
      }
    },
    {
      "cell_type": "code",
      "source": [
        "# Criando um array de zeros com forma 3x4\n",
        "e = np.zeros((3, 4))\n",
        "print(e)\n",
        "\n",
        "# Criando um array de uns com forma 2x2x2\n",
        "f = np.ones((2, 2, 2))\n",
        "print(f)"
      ],
      "metadata": {
        "id": "s8jxMFbS2EdS"
      },
      "execution_count": null,
      "outputs": []
    },
    {
      "cell_type": "markdown",
      "source": [
        "np.random.rand(): A função np.random.rand() é usada para criar um array de números aleatórios uniformemente distribuídos entre 0 e 1 com a forma especificada. Por exemplo, np.random.rand(2, 3) cria um array de 2x3 com números aleatórios."
      ],
      "metadata": {
        "id": "RywWBUV22MhP"
      }
    },
    {
      "cell_type": "code",
      "source": [
        "# Criando um array de números aleatórios uniformemente distribuídos\n",
        "# entre 0 e 1 com forma 2x3\n",
        "g = np.random.rand(2, 3)\n",
        "print(g)"
      ],
      "metadata": {
        "colab": {
          "base_uri": "https://localhost:8080/"
        },
        "id": "Wfrsnp5m2PVf",
        "outputId": "98597f16-fd88-4ae4-f254-3d178a01c9bd"
      },
      "execution_count": null,
      "outputs": [
        {
          "output_type": "stream",
          "name": "stdout",
          "text": [
            "[[0.4876336  0.67037529 0.27268246]\n",
            " [0.37398026 0.18575964 0.42623253]]\n"
          ]
        }
      ]
    },
    {
      "cell_type": "markdown",
      "source": [
        "np.reshape(): A função np.reshape() é usada para reorganizar o formato de um array. Por exemplo, np.reshape(a, (2, 3)) reorganiza o array a em uma matriz de 2x3."
      ],
      "metadata": {
        "id": "QB9UUzwe2SYA"
      }
    },
    {
      "cell_type": "code",
      "source": [
        "# Reorganizando o formato de um array\n",
        "h = np.array([[1, 2, 3], [4, 5, 6]])\n",
        "i = np.reshape(h, (3, 2))\n",
        "print(i)"
      ],
      "metadata": {
        "colab": {
          "base_uri": "https://localhost:8080/"
        },
        "id": "LxYjbX6c2VAd",
        "outputId": "391dbf46-71bf-49cd-a3a2-ac9e973655ae"
      },
      "execution_count": null,
      "outputs": [
        {
          "output_type": "stream",
          "name": "stdout",
          "text": [
            "[[1 2]\n",
            " [3 4]\n",
            " [5 6]]\n"
          ]
        }
      ]
    },
    {
      "cell_type": "markdown",
      "source": [
        "np.max(), np.min(), np.mean() e np.std(): As funções np.max(), np.min(), np.mean() e np.std() são usadas para calcular o valor máximo, mínimo, média e desvio padrão de um array NumPy, respectivamente."
      ],
      "metadata": {
        "id": "PalE9xac2Wb8"
      }
    },
    {
      "cell_type": "code",
      "source": [
        "# Calculando o valor máximo, mínimo, média e desvio padrão de um array\n",
        "j = np.array([1, 2, 3, 4, 5])\n",
        "print(np.max(j))    # output: 5\n",
        "print(np.min(j))    # output: 1\n",
        "print(np.mean(j))   # output: 3.0\n",
        "print(np.std(j))    # output: 1.41421356"
      ],
      "metadata": {
        "colab": {
          "base_uri": "https://localhost:8080/"
        },
        "id": "ZKk0xjwS2Y6-",
        "outputId": "73185eaf-beb4-45de-b63e-a4850464ee0c"
      },
      "execution_count": null,
      "outputs": [
        {
          "output_type": "stream",
          "name": "stdout",
          "text": [
            "5\n",
            "1\n",
            "3.0\n",
            "1.4142135623730951\n"
          ]
        }
      ]
    },
    {
      "cell_type": "markdown",
      "source": [
        "np.dot(): A função np.dot() é usada para realizar a multiplicação de matrizes. Por exemplo, np.dot(a, b) realiza a multiplicação de matrizes entre os arrays a e b."
      ],
      "metadata": {
        "id": "_2RjZBt52fB8"
      }
    },
    {
      "cell_type": "code",
      "source": [
        "# Realizando a multiplicação de matrizes entre dois arrays\n",
        "k = np.array([[1, 2], [3, 4]])\n",
        "l = np.array([[5, 6], [7, 8]])\n",
        "m = np.dot(k, l)\n",
        "print(m)"
      ],
      "metadata": {
        "colab": {
          "base_uri": "https://localhost:8080/"
        },
        "id": "yqy5s-0P2i-k",
        "outputId": "25b94baa-dddc-4639-e15c-8e7b0ed67ffc"
      },
      "execution_count": null,
      "outputs": [
        {
          "output_type": "stream",
          "name": "stdout",
          "text": [
            "[[19 22]\n",
            " [43 50]]\n"
          ]
        }
      ]
    },
    {
      "cell_type": "markdown",
      "source": [
        "np.transpose(): A função np.transpose() é usada para transpor um array. Por exemplo, np.transpose(a) transpõe o array a."
      ],
      "metadata": {
        "id": "o5Vrlb_r2lKY"
      }
    },
    {
      "cell_type": "code",
      "source": [
        "# Transpondo um array\n",
        "n = np.array([[1, 2], [3, 4]])\n",
        "o = np.transpose(n)\n",
        "print(o)"
      ],
      "metadata": {
        "colab": {
          "base_uri": "https://localhost:8080/"
        },
        "id": "oB0pzWH22mDs",
        "outputId": "d1bbd0ee-b855-46ca-e4fe-b0d202940130"
      },
      "execution_count": null,
      "outputs": [
        {
          "output_type": "stream",
          "name": "stdout",
          "text": [
            "[[1 3]\n",
            " [2 4]]\n"
          ]
        }
      ]
    },
    {
      "cell_type": "code",
      "source": [
        "\n",
        "a = np.array([1, 2, 3])      # array de uma dimensão\n",
        "b = np.array([[1, 2, 3], [4, 5, 6]])  # array de duas dimensões\n",
        "c = np.zeros((3, 4))         # array de zeros de 3x4\n",
        "d = np.ones((2, 3))          # array de uns de 2x3\n",
        "e = np.random.rand(2, 3)     # array de números aleatórios de 2x3\n"
      ],
      "metadata": {
        "id": "-TrFcMts02oK"
      },
      "execution_count": null,
      "outputs": []
    },
    {
      "cell_type": "code",
      "source": [
        "\n",
        "a = np.array([1, 2, 3, 4, 5, 6])\n",
        "b = np.reshape(a, (2, 3))  # reshape para um array de 2x3\n"
      ],
      "metadata": {
        "id": "qNF7jSIp1GAB"
      },
      "execution_count": null,
      "outputs": []
    },
    {
      "cell_type": "code",
      "source": [
        "a = np.array([1, 2, 3])\n",
        "b = np.array([4, 5, 6])\n",
        "c = np.concatenate([a, b])     # combinar os arrays a e b\n",
        "d = np.stack([a, b])            # empilhar os arrays a e b verticalmente\n"
      ],
      "metadata": {
        "id": "4FeMxSuS1Iho"
      },
      "execution_count": null,
      "outputs": []
    },
    {
      "cell_type": "code",
      "source": [],
      "metadata": {
        "id": "r3AuyAdm1Ldf"
      },
      "execution_count": null,
      "outputs": []
    }
  ]
}
