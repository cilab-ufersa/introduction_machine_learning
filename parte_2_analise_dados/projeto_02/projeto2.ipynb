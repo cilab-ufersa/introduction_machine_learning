{
  "nbformat": 4,
  "nbformat_minor": 0,
  "metadata": {
    "colab": {
      "provenance": []
    },
    "kernelspec": {
      "name": "python3",
      "display_name": "Python 3"
    },
    "language_info": {
      "name": "python"
    }
  },
  "cells": [
    {
      "cell_type": "markdown",
      "source": [
        "# Analisando listagens de carros usados no eBay Kleinanzeigen\n",
        "\n",
        "\n",
        "Estaremos trabalhando em um conjunto de dados de carros usados do eBay Kleinanzeigen, uma seção de classificados do site alemão eBay.\n",
        "\n",
        "O conjunto de dados foi originalmente copiado e carregado no Kaggle. A versão do conjunto de dados com a qual estamos trabalhando é uma amostra de 50.000 pontos de dados preparados pelo Dataquest, incluindo a simulação de uma versão menos limpa dos dados.\n"
      ],
      "metadata": {
        "id": "yy4LXtGQv06N"
      }
    },
    {
      "cell_type": "markdown",
      "source": [
        "O objetivo deste projeto é limpar os dados e analisar as listas de carros usados incluídos."
      ],
      "metadata": {
        "id": "SkUSPrUVwUyo"
      }
    },
    {
      "cell_type": "code",
      "execution_count": 10,
      "metadata": {
        "id": "wcaaiCkPoytP"
      },
      "outputs": [],
      "source": [
        "import pandas as pd\n",
        "import numpy as np"
      ]
    },
    {
      "cell_type": "code",
      "source": [
        "autos = pd.read_csv('autos.csv', encoding='Latin-1')\n",
        "autos.info()\n",
        "autos.head()"
      ],
      "metadata": {
        "colab": {
          "base_uri": "https://localhost:8080/",
          "height": 912
        },
        "id": "dpN48fkrwW7y",
        "outputId": "16d09462-f9f2-481d-8816-b608d19e3389"
      },
      "execution_count": 11,
      "outputs": [
        {
          "output_type": "stream",
          "name": "stdout",
          "text": [
            "<class 'pandas.core.frame.DataFrame'>\n",
            "RangeIndex: 371528 entries, 0 to 371527\n",
            "Data columns (total 20 columns):\n",
            " #   Column               Non-Null Count   Dtype \n",
            "---  ------               --------------   ----- \n",
            " 0   dateCrawled          371528 non-null  object\n",
            " 1   name                 371528 non-null  object\n",
            " 2   seller               371528 non-null  object\n",
            " 3   offerType            371528 non-null  object\n",
            " 4   price                371528 non-null  int64 \n",
            " 5   abtest               371528 non-null  object\n",
            " 6   vehicleType          333659 non-null  object\n",
            " 7   yearOfRegistration   371528 non-null  int64 \n",
            " 8   gearbox              351319 non-null  object\n",
            " 9   powerPS              371528 non-null  int64 \n",
            " 10  model                351044 non-null  object\n",
            " 11  kilometer            371528 non-null  int64 \n",
            " 12  monthOfRegistration  371528 non-null  int64 \n",
            " 13  fuelType             338142 non-null  object\n",
            " 14  brand                371528 non-null  object\n",
            " 15  notRepairedDamage    299468 non-null  object\n",
            " 16  dateCreated          371528 non-null  object\n",
            " 17  nrOfPictures         371528 non-null  int64 \n",
            " 18  postalCode           371528 non-null  int64 \n",
            " 19  lastSeen             371528 non-null  object\n",
            "dtypes: int64(7), object(13)\n",
            "memory usage: 56.7+ MB\n"
          ]
        },
        {
          "output_type": "execute_result",
          "data": {
            "text/plain": [
              "           dateCrawled                            name  seller offerType  \\\n",
              "0  2016-03-24 11:52:17                      Golf_3_1.6  privat   Angebot   \n",
              "1  2016-03-24 10:58:45            A5_Sportback_2.7_Tdi  privat   Angebot   \n",
              "2  2016-03-14 12:52:21  Jeep_Grand_Cherokee_\"Overland\"  privat   Angebot   \n",
              "3  2016-03-17 16:54:04              GOLF_4_1_4__3TÜRER  privat   Angebot   \n",
              "4  2016-03-31 17:25:20  Skoda_Fabia_1.4_TDI_PD_Classic  privat   Angebot   \n",
              "\n",
              "   price abtest vehicleType  yearOfRegistration    gearbox  powerPS  model  \\\n",
              "0    480   test         NaN                1993    manuell        0   golf   \n",
              "1  18300   test       coupe                2011    manuell      190    NaN   \n",
              "2   9800   test         suv                2004  automatik      163  grand   \n",
              "3   1500   test  kleinwagen                2001    manuell       75   golf   \n",
              "4   3600   test  kleinwagen                2008    manuell       69  fabia   \n",
              "\n",
              "   kilometer  monthOfRegistration fuelType       brand notRepairedDamage  \\\n",
              "0     150000                    0   benzin  volkswagen               NaN   \n",
              "1     125000                    5   diesel        audi                ja   \n",
              "2     125000                    8   diesel        jeep               NaN   \n",
              "3     150000                    6   benzin  volkswagen              nein   \n",
              "4      90000                    7   diesel       skoda              nein   \n",
              "\n",
              "           dateCreated  nrOfPictures  postalCode             lastSeen  \n",
              "0  2016-03-24 00:00:00             0       70435  2016-04-07 03:16:57  \n",
              "1  2016-03-24 00:00:00             0       66954  2016-04-07 01:46:50  \n",
              "2  2016-03-14 00:00:00             0       90480  2016-04-05 12:47:46  \n",
              "3  2016-03-17 00:00:00             0       91074  2016-03-17 17:40:17  \n",
              "4  2016-03-31 00:00:00             0       60437  2016-04-06 10:17:21  "
            ],
            "text/html": [
              "\n",
              "  <div id=\"df-826d8aa3-55f1-4e6e-916b-a2363a6cbfcf\">\n",
              "    <div class=\"colab-df-container\">\n",
              "      <div>\n",
              "<style scoped>\n",
              "    .dataframe tbody tr th:only-of-type {\n",
              "        vertical-align: middle;\n",
              "    }\n",
              "\n",
              "    .dataframe tbody tr th {\n",
              "        vertical-align: top;\n",
              "    }\n",
              "\n",
              "    .dataframe thead th {\n",
              "        text-align: right;\n",
              "    }\n",
              "</style>\n",
              "<table border=\"1\" class=\"dataframe\">\n",
              "  <thead>\n",
              "    <tr style=\"text-align: right;\">\n",
              "      <th></th>\n",
              "      <th>dateCrawled</th>\n",
              "      <th>name</th>\n",
              "      <th>seller</th>\n",
              "      <th>offerType</th>\n",
              "      <th>price</th>\n",
              "      <th>abtest</th>\n",
              "      <th>vehicleType</th>\n",
              "      <th>yearOfRegistration</th>\n",
              "      <th>gearbox</th>\n",
              "      <th>powerPS</th>\n",
              "      <th>model</th>\n",
              "      <th>kilometer</th>\n",
              "      <th>monthOfRegistration</th>\n",
              "      <th>fuelType</th>\n",
              "      <th>brand</th>\n",
              "      <th>notRepairedDamage</th>\n",
              "      <th>dateCreated</th>\n",
              "      <th>nrOfPictures</th>\n",
              "      <th>postalCode</th>\n",
              "      <th>lastSeen</th>\n",
              "    </tr>\n",
              "  </thead>\n",
              "  <tbody>\n",
              "    <tr>\n",
              "      <th>0</th>\n",
              "      <td>2016-03-24 11:52:17</td>\n",
              "      <td>Golf_3_1.6</td>\n",
              "      <td>privat</td>\n",
              "      <td>Angebot</td>\n",
              "      <td>480</td>\n",
              "      <td>test</td>\n",
              "      <td>NaN</td>\n",
              "      <td>1993</td>\n",
              "      <td>manuell</td>\n",
              "      <td>0</td>\n",
              "      <td>golf</td>\n",
              "      <td>150000</td>\n",
              "      <td>0</td>\n",
              "      <td>benzin</td>\n",
              "      <td>volkswagen</td>\n",
              "      <td>NaN</td>\n",
              "      <td>2016-03-24 00:00:00</td>\n",
              "      <td>0</td>\n",
              "      <td>70435</td>\n",
              "      <td>2016-04-07 03:16:57</td>\n",
              "    </tr>\n",
              "    <tr>\n",
              "      <th>1</th>\n",
              "      <td>2016-03-24 10:58:45</td>\n",
              "      <td>A5_Sportback_2.7_Tdi</td>\n",
              "      <td>privat</td>\n",
              "      <td>Angebot</td>\n",
              "      <td>18300</td>\n",
              "      <td>test</td>\n",
              "      <td>coupe</td>\n",
              "      <td>2011</td>\n",
              "      <td>manuell</td>\n",
              "      <td>190</td>\n",
              "      <td>NaN</td>\n",
              "      <td>125000</td>\n",
              "      <td>5</td>\n",
              "      <td>diesel</td>\n",
              "      <td>audi</td>\n",
              "      <td>ja</td>\n",
              "      <td>2016-03-24 00:00:00</td>\n",
              "      <td>0</td>\n",
              "      <td>66954</td>\n",
              "      <td>2016-04-07 01:46:50</td>\n",
              "    </tr>\n",
              "    <tr>\n",
              "      <th>2</th>\n",
              "      <td>2016-03-14 12:52:21</td>\n",
              "      <td>Jeep_Grand_Cherokee_\"Overland\"</td>\n",
              "      <td>privat</td>\n",
              "      <td>Angebot</td>\n",
              "      <td>9800</td>\n",
              "      <td>test</td>\n",
              "      <td>suv</td>\n",
              "      <td>2004</td>\n",
              "      <td>automatik</td>\n",
              "      <td>163</td>\n",
              "      <td>grand</td>\n",
              "      <td>125000</td>\n",
              "      <td>8</td>\n",
              "      <td>diesel</td>\n",
              "      <td>jeep</td>\n",
              "      <td>NaN</td>\n",
              "      <td>2016-03-14 00:00:00</td>\n",
              "      <td>0</td>\n",
              "      <td>90480</td>\n",
              "      <td>2016-04-05 12:47:46</td>\n",
              "    </tr>\n",
              "    <tr>\n",
              "      <th>3</th>\n",
              "      <td>2016-03-17 16:54:04</td>\n",
              "      <td>GOLF_4_1_4__3TÜRER</td>\n",
              "      <td>privat</td>\n",
              "      <td>Angebot</td>\n",
              "      <td>1500</td>\n",
              "      <td>test</td>\n",
              "      <td>kleinwagen</td>\n",
              "      <td>2001</td>\n",
              "      <td>manuell</td>\n",
              "      <td>75</td>\n",
              "      <td>golf</td>\n",
              "      <td>150000</td>\n",
              "      <td>6</td>\n",
              "      <td>benzin</td>\n",
              "      <td>volkswagen</td>\n",
              "      <td>nein</td>\n",
              "      <td>2016-03-17 00:00:00</td>\n",
              "      <td>0</td>\n",
              "      <td>91074</td>\n",
              "      <td>2016-03-17 17:40:17</td>\n",
              "    </tr>\n",
              "    <tr>\n",
              "      <th>4</th>\n",
              "      <td>2016-03-31 17:25:20</td>\n",
              "      <td>Skoda_Fabia_1.4_TDI_PD_Classic</td>\n",
              "      <td>privat</td>\n",
              "      <td>Angebot</td>\n",
              "      <td>3600</td>\n",
              "      <td>test</td>\n",
              "      <td>kleinwagen</td>\n",
              "      <td>2008</td>\n",
              "      <td>manuell</td>\n",
              "      <td>69</td>\n",
              "      <td>fabia</td>\n",
              "      <td>90000</td>\n",
              "      <td>7</td>\n",
              "      <td>diesel</td>\n",
              "      <td>skoda</td>\n",
              "      <td>nein</td>\n",
              "      <td>2016-03-31 00:00:00</td>\n",
              "      <td>0</td>\n",
              "      <td>60437</td>\n",
              "      <td>2016-04-06 10:17:21</td>\n",
              "    </tr>\n",
              "  </tbody>\n",
              "</table>\n",
              "</div>\n",
              "      <button class=\"colab-df-convert\" onclick=\"convertToInteractive('df-826d8aa3-55f1-4e6e-916b-a2363a6cbfcf')\"\n",
              "              title=\"Convert this dataframe to an interactive table.\"\n",
              "              style=\"display:none;\">\n",
              "        \n",
              "  <svg xmlns=\"http://www.w3.org/2000/svg\" height=\"24px\"viewBox=\"0 0 24 24\"\n",
              "       width=\"24px\">\n",
              "    <path d=\"M0 0h24v24H0V0z\" fill=\"none\"/>\n",
              "    <path d=\"M18.56 5.44l.94 2.06.94-2.06 2.06-.94-2.06-.94-.94-2.06-.94 2.06-2.06.94zm-11 1L8.5 8.5l.94-2.06 2.06-.94-2.06-.94L8.5 2.5l-.94 2.06-2.06.94zm10 10l.94 2.06.94-2.06 2.06-.94-2.06-.94-.94-2.06-.94 2.06-2.06.94z\"/><path d=\"M17.41 7.96l-1.37-1.37c-.4-.4-.92-.59-1.43-.59-.52 0-1.04.2-1.43.59L10.3 9.45l-7.72 7.72c-.78.78-.78 2.05 0 2.83L4 21.41c.39.39.9.59 1.41.59.51 0 1.02-.2 1.41-.59l7.78-7.78 2.81-2.81c.8-.78.8-2.07 0-2.86zM5.41 20L4 18.59l7.72-7.72 1.47 1.35L5.41 20z\"/>\n",
              "  </svg>\n",
              "      </button>\n",
              "      \n",
              "  <style>\n",
              "    .colab-df-container {\n",
              "      display:flex;\n",
              "      flex-wrap:wrap;\n",
              "      gap: 12px;\n",
              "    }\n",
              "\n",
              "    .colab-df-convert {\n",
              "      background-color: #E8F0FE;\n",
              "      border: none;\n",
              "      border-radius: 50%;\n",
              "      cursor: pointer;\n",
              "      display: none;\n",
              "      fill: #1967D2;\n",
              "      height: 32px;\n",
              "      padding: 0 0 0 0;\n",
              "      width: 32px;\n",
              "    }\n",
              "\n",
              "    .colab-df-convert:hover {\n",
              "      background-color: #E2EBFA;\n",
              "      box-shadow: 0px 1px 2px rgba(60, 64, 67, 0.3), 0px 1px 3px 1px rgba(60, 64, 67, 0.15);\n",
              "      fill: #174EA6;\n",
              "    }\n",
              "\n",
              "    [theme=dark] .colab-df-convert {\n",
              "      background-color: #3B4455;\n",
              "      fill: #D2E3FC;\n",
              "    }\n",
              "\n",
              "    [theme=dark] .colab-df-convert:hover {\n",
              "      background-color: #434B5C;\n",
              "      box-shadow: 0px 1px 3px 1px rgba(0, 0, 0, 0.15);\n",
              "      filter: drop-shadow(0px 1px 2px rgba(0, 0, 0, 0.3));\n",
              "      fill: #FFFFFF;\n",
              "    }\n",
              "  </style>\n",
              "\n",
              "      <script>\n",
              "        const buttonEl =\n",
              "          document.querySelector('#df-826d8aa3-55f1-4e6e-916b-a2363a6cbfcf button.colab-df-convert');\n",
              "        buttonEl.style.display =\n",
              "          google.colab.kernel.accessAllowed ? 'block' : 'none';\n",
              "\n",
              "        async function convertToInteractive(key) {\n",
              "          const element = document.querySelector('#df-826d8aa3-55f1-4e6e-916b-a2363a6cbfcf');\n",
              "          const dataTable =\n",
              "            await google.colab.kernel.invokeFunction('convertToInteractive',\n",
              "                                                     [key], {});\n",
              "          if (!dataTable) return;\n",
              "\n",
              "          const docLinkHtml = 'Like what you see? Visit the ' +\n",
              "            '<a target=\"_blank\" href=https://colab.research.google.com/notebooks/data_table.ipynb>data table notebook</a>'\n",
              "            + ' to learn more about interactive tables.';\n",
              "          element.innerHTML = '';\n",
              "          dataTable['output_type'] = 'display_data';\n",
              "          await google.colab.output.renderOutput(dataTable, element);\n",
              "          const docLink = document.createElement('div');\n",
              "          docLink.innerHTML = docLinkHtml;\n",
              "          element.appendChild(docLink);\n",
              "        }\n",
              "      </script>\n",
              "    </div>\n",
              "  </div>\n",
              "  "
            ]
          },
          "metadata": {},
          "execution_count": 11
        }
      ]
    },
    {
      "cell_type": "markdown",
      "source": [
        "## Limpando as colunas"
      ],
      "metadata": {
        "id": "u-gtWx_awZwj"
      }
    },
    {
      "cell_type": "code",
      "source": [
        "autos.columns"
      ],
      "metadata": {
        "colab": {
          "base_uri": "https://localhost:8080/"
        },
        "id": "RjPWJNg4wYEE",
        "outputId": "8af20f25-8e77-477b-b6cc-0b5a7948f961"
      },
      "execution_count": 12,
      "outputs": [
        {
          "output_type": "execute_result",
          "data": {
            "text/plain": [
              "Index(['dateCrawled', 'name', 'seller', 'offerType', 'price', 'abtest',\n",
              "       'vehicleType', 'yearOfRegistration', 'gearbox', 'powerPS', 'model',\n",
              "       'kilometer', 'monthOfRegistration', 'fuelType', 'brand',\n",
              "       'notRepairedDamage', 'dateCreated', 'nrOfPictures', 'postalCode',\n",
              "       'lastSeen'],\n",
              "      dtype='object')"
            ]
          },
          "metadata": {},
          "execution_count": 12
        }
      ]
    },
    {
      "cell_type": "markdown",
      "source": [
        "Faremos algumas alterações aqui:\n",
        "\n",
        "- Altere as colunas de camelcase para snakecase.\n",
        "- Altere algumas palavras para descrever as colunas com mais precisão."
      ],
      "metadata": {
        "id": "zmr6LX_0xK-c"
      }
    },
    {
      "cell_type": "code",
      "source": [
        "autos.columns = ['date_crawled', 'name', 'seller', 'offer_type', 'price', 'ab_test',\n",
        "       'vehicle_type', 'registration_year', 'gearbox', 'power_ps', 'model',\n",
        "       'odometer', 'registration_month', 'fuel_type', 'brand',\n",
        "       'unrepaired_damage', 'ad_created', 'num_photos', 'postal_code',\n",
        "       'last_seen']\n",
        "autos.head()"
      ],
      "metadata": {
        "colab": {
          "base_uri": "https://localhost:8080/",
          "height": 444
        },
        "id": "uIv62BCxxOI5",
        "outputId": "9009dbb4-4de7-4da6-ec4f-3bc8ab3b201e"
      },
      "execution_count": 13,
      "outputs": [
        {
          "output_type": "execute_result",
          "data": {
            "text/plain": [
              "          date_crawled                            name  seller offer_type  \\\n",
              "0  2016-03-24 11:52:17                      Golf_3_1.6  privat    Angebot   \n",
              "1  2016-03-24 10:58:45            A5_Sportback_2.7_Tdi  privat    Angebot   \n",
              "2  2016-03-14 12:52:21  Jeep_Grand_Cherokee_\"Overland\"  privat    Angebot   \n",
              "3  2016-03-17 16:54:04              GOLF_4_1_4__3TÜRER  privat    Angebot   \n",
              "4  2016-03-31 17:25:20  Skoda_Fabia_1.4_TDI_PD_Classic  privat    Angebot   \n",
              "\n",
              "   price ab_test vehicle_type  registration_year    gearbox  power_ps  model  \\\n",
              "0    480    test          NaN               1993    manuell         0   golf   \n",
              "1  18300    test        coupe               2011    manuell       190    NaN   \n",
              "2   9800    test          suv               2004  automatik       163  grand   \n",
              "3   1500    test   kleinwagen               2001    manuell        75   golf   \n",
              "4   3600    test   kleinwagen               2008    manuell        69  fabia   \n",
              "\n",
              "   odometer  registration_month fuel_type       brand unrepaired_damage  \\\n",
              "0    150000                   0    benzin  volkswagen               NaN   \n",
              "1    125000                   5    diesel        audi                ja   \n",
              "2    125000                   8    diesel        jeep               NaN   \n",
              "3    150000                   6    benzin  volkswagen              nein   \n",
              "4     90000                   7    diesel       skoda              nein   \n",
              "\n",
              "            ad_created  num_photos  postal_code            last_seen  \n",
              "0  2016-03-24 00:00:00           0        70435  2016-04-07 03:16:57  \n",
              "1  2016-03-24 00:00:00           0        66954  2016-04-07 01:46:50  \n",
              "2  2016-03-14 00:00:00           0        90480  2016-04-05 12:47:46  \n",
              "3  2016-03-17 00:00:00           0        91074  2016-03-17 17:40:17  \n",
              "4  2016-03-31 00:00:00           0        60437  2016-04-06 10:17:21  "
            ],
            "text/html": [
              "\n",
              "  <div id=\"df-2e8fa919-3dd8-4bec-847c-86f463e35631\">\n",
              "    <div class=\"colab-df-container\">\n",
              "      <div>\n",
              "<style scoped>\n",
              "    .dataframe tbody tr th:only-of-type {\n",
              "        vertical-align: middle;\n",
              "    }\n",
              "\n",
              "    .dataframe tbody tr th {\n",
              "        vertical-align: top;\n",
              "    }\n",
              "\n",
              "    .dataframe thead th {\n",
              "        text-align: right;\n",
              "    }\n",
              "</style>\n",
              "<table border=\"1\" class=\"dataframe\">\n",
              "  <thead>\n",
              "    <tr style=\"text-align: right;\">\n",
              "      <th></th>\n",
              "      <th>date_crawled</th>\n",
              "      <th>name</th>\n",
              "      <th>seller</th>\n",
              "      <th>offer_type</th>\n",
              "      <th>price</th>\n",
              "      <th>ab_test</th>\n",
              "      <th>vehicle_type</th>\n",
              "      <th>registration_year</th>\n",
              "      <th>gearbox</th>\n",
              "      <th>power_ps</th>\n",
              "      <th>model</th>\n",
              "      <th>odometer</th>\n",
              "      <th>registration_month</th>\n",
              "      <th>fuel_type</th>\n",
              "      <th>brand</th>\n",
              "      <th>unrepaired_damage</th>\n",
              "      <th>ad_created</th>\n",
              "      <th>num_photos</th>\n",
              "      <th>postal_code</th>\n",
              "      <th>last_seen</th>\n",
              "    </tr>\n",
              "  </thead>\n",
              "  <tbody>\n",
              "    <tr>\n",
              "      <th>0</th>\n",
              "      <td>2016-03-24 11:52:17</td>\n",
              "      <td>Golf_3_1.6</td>\n",
              "      <td>privat</td>\n",
              "      <td>Angebot</td>\n",
              "      <td>480</td>\n",
              "      <td>test</td>\n",
              "      <td>NaN</td>\n",
              "      <td>1993</td>\n",
              "      <td>manuell</td>\n",
              "      <td>0</td>\n",
              "      <td>golf</td>\n",
              "      <td>150000</td>\n",
              "      <td>0</td>\n",
              "      <td>benzin</td>\n",
              "      <td>volkswagen</td>\n",
              "      <td>NaN</td>\n",
              "      <td>2016-03-24 00:00:00</td>\n",
              "      <td>0</td>\n",
              "      <td>70435</td>\n",
              "      <td>2016-04-07 03:16:57</td>\n",
              "    </tr>\n",
              "    <tr>\n",
              "      <th>1</th>\n",
              "      <td>2016-03-24 10:58:45</td>\n",
              "      <td>A5_Sportback_2.7_Tdi</td>\n",
              "      <td>privat</td>\n",
              "      <td>Angebot</td>\n",
              "      <td>18300</td>\n",
              "      <td>test</td>\n",
              "      <td>coupe</td>\n",
              "      <td>2011</td>\n",
              "      <td>manuell</td>\n",
              "      <td>190</td>\n",
              "      <td>NaN</td>\n",
              "      <td>125000</td>\n",
              "      <td>5</td>\n",
              "      <td>diesel</td>\n",
              "      <td>audi</td>\n",
              "      <td>ja</td>\n",
              "      <td>2016-03-24 00:00:00</td>\n",
              "      <td>0</td>\n",
              "      <td>66954</td>\n",
              "      <td>2016-04-07 01:46:50</td>\n",
              "    </tr>\n",
              "    <tr>\n",
              "      <th>2</th>\n",
              "      <td>2016-03-14 12:52:21</td>\n",
              "      <td>Jeep_Grand_Cherokee_\"Overland\"</td>\n",
              "      <td>privat</td>\n",
              "      <td>Angebot</td>\n",
              "      <td>9800</td>\n",
              "      <td>test</td>\n",
              "      <td>suv</td>\n",
              "      <td>2004</td>\n",
              "      <td>automatik</td>\n",
              "      <td>163</td>\n",
              "      <td>grand</td>\n",
              "      <td>125000</td>\n",
              "      <td>8</td>\n",
              "      <td>diesel</td>\n",
              "      <td>jeep</td>\n",
              "      <td>NaN</td>\n",
              "      <td>2016-03-14 00:00:00</td>\n",
              "      <td>0</td>\n",
              "      <td>90480</td>\n",
              "      <td>2016-04-05 12:47:46</td>\n",
              "    </tr>\n",
              "    <tr>\n",
              "      <th>3</th>\n",
              "      <td>2016-03-17 16:54:04</td>\n",
              "      <td>GOLF_4_1_4__3TÜRER</td>\n",
              "      <td>privat</td>\n",
              "      <td>Angebot</td>\n",
              "      <td>1500</td>\n",
              "      <td>test</td>\n",
              "      <td>kleinwagen</td>\n",
              "      <td>2001</td>\n",
              "      <td>manuell</td>\n",
              "      <td>75</td>\n",
              "      <td>golf</td>\n",
              "      <td>150000</td>\n",
              "      <td>6</td>\n",
              "      <td>benzin</td>\n",
              "      <td>volkswagen</td>\n",
              "      <td>nein</td>\n",
              "      <td>2016-03-17 00:00:00</td>\n",
              "      <td>0</td>\n",
              "      <td>91074</td>\n",
              "      <td>2016-03-17 17:40:17</td>\n",
              "    </tr>\n",
              "    <tr>\n",
              "      <th>4</th>\n",
              "      <td>2016-03-31 17:25:20</td>\n",
              "      <td>Skoda_Fabia_1.4_TDI_PD_Classic</td>\n",
              "      <td>privat</td>\n",
              "      <td>Angebot</td>\n",
              "      <td>3600</td>\n",
              "      <td>test</td>\n",
              "      <td>kleinwagen</td>\n",
              "      <td>2008</td>\n",
              "      <td>manuell</td>\n",
              "      <td>69</td>\n",
              "      <td>fabia</td>\n",
              "      <td>90000</td>\n",
              "      <td>7</td>\n",
              "      <td>diesel</td>\n",
              "      <td>skoda</td>\n",
              "      <td>nein</td>\n",
              "      <td>2016-03-31 00:00:00</td>\n",
              "      <td>0</td>\n",
              "      <td>60437</td>\n",
              "      <td>2016-04-06 10:17:21</td>\n",
              "    </tr>\n",
              "  </tbody>\n",
              "</table>\n",
              "</div>\n",
              "      <button class=\"colab-df-convert\" onclick=\"convertToInteractive('df-2e8fa919-3dd8-4bec-847c-86f463e35631')\"\n",
              "              title=\"Convert this dataframe to an interactive table.\"\n",
              "              style=\"display:none;\">\n",
              "        \n",
              "  <svg xmlns=\"http://www.w3.org/2000/svg\" height=\"24px\"viewBox=\"0 0 24 24\"\n",
              "       width=\"24px\">\n",
              "    <path d=\"M0 0h24v24H0V0z\" fill=\"none\"/>\n",
              "    <path d=\"M18.56 5.44l.94 2.06.94-2.06 2.06-.94-2.06-.94-.94-2.06-.94 2.06-2.06.94zm-11 1L8.5 8.5l.94-2.06 2.06-.94-2.06-.94L8.5 2.5l-.94 2.06-2.06.94zm10 10l.94 2.06.94-2.06 2.06-.94-2.06-.94-.94-2.06-.94 2.06-2.06.94z\"/><path d=\"M17.41 7.96l-1.37-1.37c-.4-.4-.92-.59-1.43-.59-.52 0-1.04.2-1.43.59L10.3 9.45l-7.72 7.72c-.78.78-.78 2.05 0 2.83L4 21.41c.39.39.9.59 1.41.59.51 0 1.02-.2 1.41-.59l7.78-7.78 2.81-2.81c.8-.78.8-2.07 0-2.86zM5.41 20L4 18.59l7.72-7.72 1.47 1.35L5.41 20z\"/>\n",
              "  </svg>\n",
              "      </button>\n",
              "      \n",
              "  <style>\n",
              "    .colab-df-container {\n",
              "      display:flex;\n",
              "      flex-wrap:wrap;\n",
              "      gap: 12px;\n",
              "    }\n",
              "\n",
              "    .colab-df-convert {\n",
              "      background-color: #E8F0FE;\n",
              "      border: none;\n",
              "      border-radius: 50%;\n",
              "      cursor: pointer;\n",
              "      display: none;\n",
              "      fill: #1967D2;\n",
              "      height: 32px;\n",
              "      padding: 0 0 0 0;\n",
              "      width: 32px;\n",
              "    }\n",
              "\n",
              "    .colab-df-convert:hover {\n",
              "      background-color: #E2EBFA;\n",
              "      box-shadow: 0px 1px 2px rgba(60, 64, 67, 0.3), 0px 1px 3px 1px rgba(60, 64, 67, 0.15);\n",
              "      fill: #174EA6;\n",
              "    }\n",
              "\n",
              "    [theme=dark] .colab-df-convert {\n",
              "      background-color: #3B4455;\n",
              "      fill: #D2E3FC;\n",
              "    }\n",
              "\n",
              "    [theme=dark] .colab-df-convert:hover {\n",
              "      background-color: #434B5C;\n",
              "      box-shadow: 0px 1px 3px 1px rgba(0, 0, 0, 0.15);\n",
              "      filter: drop-shadow(0px 1px 2px rgba(0, 0, 0, 0.3));\n",
              "      fill: #FFFFFF;\n",
              "    }\n",
              "  </style>\n",
              "\n",
              "      <script>\n",
              "        const buttonEl =\n",
              "          document.querySelector('#df-2e8fa919-3dd8-4bec-847c-86f463e35631 button.colab-df-convert');\n",
              "        buttonEl.style.display =\n",
              "          google.colab.kernel.accessAllowed ? 'block' : 'none';\n",
              "\n",
              "        async function convertToInteractive(key) {\n",
              "          const element = document.querySelector('#df-2e8fa919-3dd8-4bec-847c-86f463e35631');\n",
              "          const dataTable =\n",
              "            await google.colab.kernel.invokeFunction('convertToInteractive',\n",
              "                                                     [key], {});\n",
              "          if (!dataTable) return;\n",
              "\n",
              "          const docLinkHtml = 'Like what you see? Visit the ' +\n",
              "            '<a target=\"_blank\" href=https://colab.research.google.com/notebooks/data_table.ipynb>data table notebook</a>'\n",
              "            + ' to learn more about interactive tables.';\n",
              "          element.innerHTML = '';\n",
              "          dataTable['output_type'] = 'display_data';\n",
              "          await google.colab.output.renderOutput(dataTable, element);\n",
              "          const docLink = document.createElement('div');\n",
              "          docLink.innerHTML = docLinkHtml;\n",
              "          element.appendChild(docLink);\n",
              "        }\n",
              "      </script>\n",
              "    </div>\n",
              "  </div>\n",
              "  "
            ]
          },
          "metadata": {},
          "execution_count": 13
        }
      ]
    },
    {
      "cell_type": "markdown",
      "source": [
        "## Exploração e limpeza inicial de dados\n",
        "Começaremos explorando os dados para encontrar áreas óbvias onde podemos limpar os dados."
      ],
      "metadata": {
        "id": "jf6IZmvgys3y"
      }
    },
    {
      "cell_type": "code",
      "source": [
        "autos.describe(include='all')"
      ],
      "metadata": {
        "colab": {
          "base_uri": "https://localhost:8080/",
          "height": 493
        },
        "id": "zaiPAKsEyvfI",
        "outputId": "7a7c1d61-1db8-4eef-9cf3-0be5960ba499"
      },
      "execution_count": 14,
      "outputs": [
        {
          "output_type": "execute_result",
          "data": {
            "text/plain": [
              "               date_crawled         name  seller offer_type         price  \\\n",
              "count                371528       371528  371528     371528  3.715280e+05   \n",
              "unique               280500       233531       2          2           NaN   \n",
              "top     2016-03-24 14:49:47  Ford_Fiesta  privat    Angebot           NaN   \n",
              "freq                      7          657  371525     371516           NaN   \n",
              "mean                    NaN          NaN     NaN        NaN  1.729514e+04   \n",
              "std                     NaN          NaN     NaN        NaN  3.587954e+06   \n",
              "min                     NaN          NaN     NaN        NaN  0.000000e+00   \n",
              "25%                     NaN          NaN     NaN        NaN  1.150000e+03   \n",
              "50%                     NaN          NaN     NaN        NaN  2.950000e+03   \n",
              "75%                     NaN          NaN     NaN        NaN  7.200000e+03   \n",
              "max                     NaN          NaN     NaN        NaN  2.147484e+09   \n",
              "\n",
              "       ab_test vehicle_type  registration_year  gearbox       power_ps  \\\n",
              "count   371528       333659      371528.000000   351319  371528.000000   \n",
              "unique       2            8                NaN        2            NaN   \n",
              "top       test    limousine                NaN  manuell            NaN   \n",
              "freq    192585        95894                NaN   274214            NaN   \n",
              "mean       NaN          NaN        2004.577997      NaN     115.549477   \n",
              "std        NaN          NaN          92.866598      NaN     192.139578   \n",
              "min        NaN          NaN        1000.000000      NaN       0.000000   \n",
              "25%        NaN          NaN        1999.000000      NaN      70.000000   \n",
              "50%        NaN          NaN        2003.000000      NaN     105.000000   \n",
              "75%        NaN          NaN        2008.000000      NaN     150.000000   \n",
              "max        NaN          NaN        9999.000000      NaN   20000.000000   \n",
              "\n",
              "         model       odometer  registration_month fuel_type       brand  \\\n",
              "count   351044  371528.000000       371528.000000    338142      371528   \n",
              "unique     251            NaN                 NaN         7          40   \n",
              "top       golf            NaN                 NaN    benzin  volkswagen   \n",
              "freq     30070            NaN                 NaN    223857       79640   \n",
              "mean       NaN  125618.688228            5.734445       NaN         NaN   \n",
              "std        NaN   40112.337051            3.712412       NaN         NaN   \n",
              "min        NaN    5000.000000            0.000000       NaN         NaN   \n",
              "25%        NaN  125000.000000            3.000000       NaN         NaN   \n",
              "50%        NaN  150000.000000            6.000000       NaN         NaN   \n",
              "75%        NaN  150000.000000            9.000000       NaN         NaN   \n",
              "max        NaN  150000.000000           12.000000       NaN         NaN   \n",
              "\n",
              "       unrepaired_damage           ad_created  num_photos   postal_code  \\\n",
              "count             299468               371528    371528.0  371528.00000   \n",
              "unique                 2                  114         NaN           NaN   \n",
              "top                 nein  2016-04-03 00:00:00         NaN           NaN   \n",
              "freq              263182                14450         NaN           NaN   \n",
              "mean                 NaN                  NaN         0.0   50820.66764   \n",
              "std                  NaN                  NaN         0.0   25799.08247   \n",
              "min                  NaN                  NaN         0.0    1067.00000   \n",
              "25%                  NaN                  NaN         0.0   30459.00000   \n",
              "50%                  NaN                  NaN         0.0   49610.00000   \n",
              "75%                  NaN                  NaN         0.0   71546.00000   \n",
              "max                  NaN                  NaN         0.0   99998.00000   \n",
              "\n",
              "                  last_seen  \n",
              "count                371528  \n",
              "unique               182806  \n",
              "top     2016-04-07 06:45:59  \n",
              "freq                     17  \n",
              "mean                    NaN  \n",
              "std                     NaN  \n",
              "min                     NaN  \n",
              "25%                     NaN  \n",
              "50%                     NaN  \n",
              "75%                     NaN  \n",
              "max                     NaN  "
            ],
            "text/html": [
              "\n",
              "  <div id=\"df-0747e684-fbfa-4196-9d5a-4259486d1991\">\n",
              "    <div class=\"colab-df-container\">\n",
              "      <div>\n",
              "<style scoped>\n",
              "    .dataframe tbody tr th:only-of-type {\n",
              "        vertical-align: middle;\n",
              "    }\n",
              "\n",
              "    .dataframe tbody tr th {\n",
              "        vertical-align: top;\n",
              "    }\n",
              "\n",
              "    .dataframe thead th {\n",
              "        text-align: right;\n",
              "    }\n",
              "</style>\n",
              "<table border=\"1\" class=\"dataframe\">\n",
              "  <thead>\n",
              "    <tr style=\"text-align: right;\">\n",
              "      <th></th>\n",
              "      <th>date_crawled</th>\n",
              "      <th>name</th>\n",
              "      <th>seller</th>\n",
              "      <th>offer_type</th>\n",
              "      <th>price</th>\n",
              "      <th>ab_test</th>\n",
              "      <th>vehicle_type</th>\n",
              "      <th>registration_year</th>\n",
              "      <th>gearbox</th>\n",
              "      <th>power_ps</th>\n",
              "      <th>model</th>\n",
              "      <th>odometer</th>\n",
              "      <th>registration_month</th>\n",
              "      <th>fuel_type</th>\n",
              "      <th>brand</th>\n",
              "      <th>unrepaired_damage</th>\n",
              "      <th>ad_created</th>\n",
              "      <th>num_photos</th>\n",
              "      <th>postal_code</th>\n",
              "      <th>last_seen</th>\n",
              "    </tr>\n",
              "  </thead>\n",
              "  <tbody>\n",
              "    <tr>\n",
              "      <th>count</th>\n",
              "      <td>371528</td>\n",
              "      <td>371528</td>\n",
              "      <td>371528</td>\n",
              "      <td>371528</td>\n",
              "      <td>3.715280e+05</td>\n",
              "      <td>371528</td>\n",
              "      <td>333659</td>\n",
              "      <td>371528.000000</td>\n",
              "      <td>351319</td>\n",
              "      <td>371528.000000</td>\n",
              "      <td>351044</td>\n",
              "      <td>371528.000000</td>\n",
              "      <td>371528.000000</td>\n",
              "      <td>338142</td>\n",
              "      <td>371528</td>\n",
              "      <td>299468</td>\n",
              "      <td>371528</td>\n",
              "      <td>371528.0</td>\n",
              "      <td>371528.00000</td>\n",
              "      <td>371528</td>\n",
              "    </tr>\n",
              "    <tr>\n",
              "      <th>unique</th>\n",
              "      <td>280500</td>\n",
              "      <td>233531</td>\n",
              "      <td>2</td>\n",
              "      <td>2</td>\n",
              "      <td>NaN</td>\n",
              "      <td>2</td>\n",
              "      <td>8</td>\n",
              "      <td>NaN</td>\n",
              "      <td>2</td>\n",
              "      <td>NaN</td>\n",
              "      <td>251</td>\n",
              "      <td>NaN</td>\n",
              "      <td>NaN</td>\n",
              "      <td>7</td>\n",
              "      <td>40</td>\n",
              "      <td>2</td>\n",
              "      <td>114</td>\n",
              "      <td>NaN</td>\n",
              "      <td>NaN</td>\n",
              "      <td>182806</td>\n",
              "    </tr>\n",
              "    <tr>\n",
              "      <th>top</th>\n",
              "      <td>2016-03-24 14:49:47</td>\n",
              "      <td>Ford_Fiesta</td>\n",
              "      <td>privat</td>\n",
              "      <td>Angebot</td>\n",
              "      <td>NaN</td>\n",
              "      <td>test</td>\n",
              "      <td>limousine</td>\n",
              "      <td>NaN</td>\n",
              "      <td>manuell</td>\n",
              "      <td>NaN</td>\n",
              "      <td>golf</td>\n",
              "      <td>NaN</td>\n",
              "      <td>NaN</td>\n",
              "      <td>benzin</td>\n",
              "      <td>volkswagen</td>\n",
              "      <td>nein</td>\n",
              "      <td>2016-04-03 00:00:00</td>\n",
              "      <td>NaN</td>\n",
              "      <td>NaN</td>\n",
              "      <td>2016-04-07 06:45:59</td>\n",
              "    </tr>\n",
              "    <tr>\n",
              "      <th>freq</th>\n",
              "      <td>7</td>\n",
              "      <td>657</td>\n",
              "      <td>371525</td>\n",
              "      <td>371516</td>\n",
              "      <td>NaN</td>\n",
              "      <td>192585</td>\n",
              "      <td>95894</td>\n",
              "      <td>NaN</td>\n",
              "      <td>274214</td>\n",
              "      <td>NaN</td>\n",
              "      <td>30070</td>\n",
              "      <td>NaN</td>\n",
              "      <td>NaN</td>\n",
              "      <td>223857</td>\n",
              "      <td>79640</td>\n",
              "      <td>263182</td>\n",
              "      <td>14450</td>\n",
              "      <td>NaN</td>\n",
              "      <td>NaN</td>\n",
              "      <td>17</td>\n",
              "    </tr>\n",
              "    <tr>\n",
              "      <th>mean</th>\n",
              "      <td>NaN</td>\n",
              "      <td>NaN</td>\n",
              "      <td>NaN</td>\n",
              "      <td>NaN</td>\n",
              "      <td>1.729514e+04</td>\n",
              "      <td>NaN</td>\n",
              "      <td>NaN</td>\n",
              "      <td>2004.577997</td>\n",
              "      <td>NaN</td>\n",
              "      <td>115.549477</td>\n",
              "      <td>NaN</td>\n",
              "      <td>125618.688228</td>\n",
              "      <td>5.734445</td>\n",
              "      <td>NaN</td>\n",
              "      <td>NaN</td>\n",
              "      <td>NaN</td>\n",
              "      <td>NaN</td>\n",
              "      <td>0.0</td>\n",
              "      <td>50820.66764</td>\n",
              "      <td>NaN</td>\n",
              "    </tr>\n",
              "    <tr>\n",
              "      <th>std</th>\n",
              "      <td>NaN</td>\n",
              "      <td>NaN</td>\n",
              "      <td>NaN</td>\n",
              "      <td>NaN</td>\n",
              "      <td>3.587954e+06</td>\n",
              "      <td>NaN</td>\n",
              "      <td>NaN</td>\n",
              "      <td>92.866598</td>\n",
              "      <td>NaN</td>\n",
              "      <td>192.139578</td>\n",
              "      <td>NaN</td>\n",
              "      <td>40112.337051</td>\n",
              "      <td>3.712412</td>\n",
              "      <td>NaN</td>\n",
              "      <td>NaN</td>\n",
              "      <td>NaN</td>\n",
              "      <td>NaN</td>\n",
              "      <td>0.0</td>\n",
              "      <td>25799.08247</td>\n",
              "      <td>NaN</td>\n",
              "    </tr>\n",
              "    <tr>\n",
              "      <th>min</th>\n",
              "      <td>NaN</td>\n",
              "      <td>NaN</td>\n",
              "      <td>NaN</td>\n",
              "      <td>NaN</td>\n",
              "      <td>0.000000e+00</td>\n",
              "      <td>NaN</td>\n",
              "      <td>NaN</td>\n",
              "      <td>1000.000000</td>\n",
              "      <td>NaN</td>\n",
              "      <td>0.000000</td>\n",
              "      <td>NaN</td>\n",
              "      <td>5000.000000</td>\n",
              "      <td>0.000000</td>\n",
              "      <td>NaN</td>\n",
              "      <td>NaN</td>\n",
              "      <td>NaN</td>\n",
              "      <td>NaN</td>\n",
              "      <td>0.0</td>\n",
              "      <td>1067.00000</td>\n",
              "      <td>NaN</td>\n",
              "    </tr>\n",
              "    <tr>\n",
              "      <th>25%</th>\n",
              "      <td>NaN</td>\n",
              "      <td>NaN</td>\n",
              "      <td>NaN</td>\n",
              "      <td>NaN</td>\n",
              "      <td>1.150000e+03</td>\n",
              "      <td>NaN</td>\n",
              "      <td>NaN</td>\n",
              "      <td>1999.000000</td>\n",
              "      <td>NaN</td>\n",
              "      <td>70.000000</td>\n",
              "      <td>NaN</td>\n",
              "      <td>125000.000000</td>\n",
              "      <td>3.000000</td>\n",
              "      <td>NaN</td>\n",
              "      <td>NaN</td>\n",
              "      <td>NaN</td>\n",
              "      <td>NaN</td>\n",
              "      <td>0.0</td>\n",
              "      <td>30459.00000</td>\n",
              "      <td>NaN</td>\n",
              "    </tr>\n",
              "    <tr>\n",
              "      <th>50%</th>\n",
              "      <td>NaN</td>\n",
              "      <td>NaN</td>\n",
              "      <td>NaN</td>\n",
              "      <td>NaN</td>\n",
              "      <td>2.950000e+03</td>\n",
              "      <td>NaN</td>\n",
              "      <td>NaN</td>\n",
              "      <td>2003.000000</td>\n",
              "      <td>NaN</td>\n",
              "      <td>105.000000</td>\n",
              "      <td>NaN</td>\n",
              "      <td>150000.000000</td>\n",
              "      <td>6.000000</td>\n",
              "      <td>NaN</td>\n",
              "      <td>NaN</td>\n",
              "      <td>NaN</td>\n",
              "      <td>NaN</td>\n",
              "      <td>0.0</td>\n",
              "      <td>49610.00000</td>\n",
              "      <td>NaN</td>\n",
              "    </tr>\n",
              "    <tr>\n",
              "      <th>75%</th>\n",
              "      <td>NaN</td>\n",
              "      <td>NaN</td>\n",
              "      <td>NaN</td>\n",
              "      <td>NaN</td>\n",
              "      <td>7.200000e+03</td>\n",
              "      <td>NaN</td>\n",
              "      <td>NaN</td>\n",
              "      <td>2008.000000</td>\n",
              "      <td>NaN</td>\n",
              "      <td>150.000000</td>\n",
              "      <td>NaN</td>\n",
              "      <td>150000.000000</td>\n",
              "      <td>9.000000</td>\n",
              "      <td>NaN</td>\n",
              "      <td>NaN</td>\n",
              "      <td>NaN</td>\n",
              "      <td>NaN</td>\n",
              "      <td>0.0</td>\n",
              "      <td>71546.00000</td>\n",
              "      <td>NaN</td>\n",
              "    </tr>\n",
              "    <tr>\n",
              "      <th>max</th>\n",
              "      <td>NaN</td>\n",
              "      <td>NaN</td>\n",
              "      <td>NaN</td>\n",
              "      <td>NaN</td>\n",
              "      <td>2.147484e+09</td>\n",
              "      <td>NaN</td>\n",
              "      <td>NaN</td>\n",
              "      <td>9999.000000</td>\n",
              "      <td>NaN</td>\n",
              "      <td>20000.000000</td>\n",
              "      <td>NaN</td>\n",
              "      <td>150000.000000</td>\n",
              "      <td>12.000000</td>\n",
              "      <td>NaN</td>\n",
              "      <td>NaN</td>\n",
              "      <td>NaN</td>\n",
              "      <td>NaN</td>\n",
              "      <td>0.0</td>\n",
              "      <td>99998.00000</td>\n",
              "      <td>NaN</td>\n",
              "    </tr>\n",
              "  </tbody>\n",
              "</table>\n",
              "</div>\n",
              "      <button class=\"colab-df-convert\" onclick=\"convertToInteractive('df-0747e684-fbfa-4196-9d5a-4259486d1991')\"\n",
              "              title=\"Convert this dataframe to an interactive table.\"\n",
              "              style=\"display:none;\">\n",
              "        \n",
              "  <svg xmlns=\"http://www.w3.org/2000/svg\" height=\"24px\"viewBox=\"0 0 24 24\"\n",
              "       width=\"24px\">\n",
              "    <path d=\"M0 0h24v24H0V0z\" fill=\"none\"/>\n",
              "    <path d=\"M18.56 5.44l.94 2.06.94-2.06 2.06-.94-2.06-.94-.94-2.06-.94 2.06-2.06.94zm-11 1L8.5 8.5l.94-2.06 2.06-.94-2.06-.94L8.5 2.5l-.94 2.06-2.06.94zm10 10l.94 2.06.94-2.06 2.06-.94-2.06-.94-.94-2.06-.94 2.06-2.06.94z\"/><path d=\"M17.41 7.96l-1.37-1.37c-.4-.4-.92-.59-1.43-.59-.52 0-1.04.2-1.43.59L10.3 9.45l-7.72 7.72c-.78.78-.78 2.05 0 2.83L4 21.41c.39.39.9.59 1.41.59.51 0 1.02-.2 1.41-.59l7.78-7.78 2.81-2.81c.8-.78.8-2.07 0-2.86zM5.41 20L4 18.59l7.72-7.72 1.47 1.35L5.41 20z\"/>\n",
              "  </svg>\n",
              "      </button>\n",
              "      \n",
              "  <style>\n",
              "    .colab-df-container {\n",
              "      display:flex;\n",
              "      flex-wrap:wrap;\n",
              "      gap: 12px;\n",
              "    }\n",
              "\n",
              "    .colab-df-convert {\n",
              "      background-color: #E8F0FE;\n",
              "      border: none;\n",
              "      border-radius: 50%;\n",
              "      cursor: pointer;\n",
              "      display: none;\n",
              "      fill: #1967D2;\n",
              "      height: 32px;\n",
              "      padding: 0 0 0 0;\n",
              "      width: 32px;\n",
              "    }\n",
              "\n",
              "    .colab-df-convert:hover {\n",
              "      background-color: #E2EBFA;\n",
              "      box-shadow: 0px 1px 2px rgba(60, 64, 67, 0.3), 0px 1px 3px 1px rgba(60, 64, 67, 0.15);\n",
              "      fill: #174EA6;\n",
              "    }\n",
              "\n",
              "    [theme=dark] .colab-df-convert {\n",
              "      background-color: #3B4455;\n",
              "      fill: #D2E3FC;\n",
              "    }\n",
              "\n",
              "    [theme=dark] .colab-df-convert:hover {\n",
              "      background-color: #434B5C;\n",
              "      box-shadow: 0px 1px 3px 1px rgba(0, 0, 0, 0.15);\n",
              "      filter: drop-shadow(0px 1px 2px rgba(0, 0, 0, 0.3));\n",
              "      fill: #FFFFFF;\n",
              "    }\n",
              "  </style>\n",
              "\n",
              "      <script>\n",
              "        const buttonEl =\n",
              "          document.querySelector('#df-0747e684-fbfa-4196-9d5a-4259486d1991 button.colab-df-convert');\n",
              "        buttonEl.style.display =\n",
              "          google.colab.kernel.accessAllowed ? 'block' : 'none';\n",
              "\n",
              "        async function convertToInteractive(key) {\n",
              "          const element = document.querySelector('#df-0747e684-fbfa-4196-9d5a-4259486d1991');\n",
              "          const dataTable =\n",
              "            await google.colab.kernel.invokeFunction('convertToInteractive',\n",
              "                                                     [key], {});\n",
              "          if (!dataTable) return;\n",
              "\n",
              "          const docLinkHtml = 'Like what you see? Visit the ' +\n",
              "            '<a target=\"_blank\" href=https://colab.research.google.com/notebooks/data_table.ipynb>data table notebook</a>'\n",
              "            + ' to learn more about interactive tables.';\n",
              "          element.innerHTML = '';\n",
              "          dataTable['output_type'] = 'display_data';\n",
              "          await google.colab.output.renderOutput(dataTable, element);\n",
              "          const docLink = document.createElement('div');\n",
              "          docLink.innerHTML = docLinkHtml;\n",
              "          element.appendChild(docLink);\n",
              "        }\n",
              "      </script>\n",
              "    </div>\n",
              "  </div>\n",
              "  "
            ]
          },
          "metadata": {},
          "execution_count": 14
        }
      ]
    },
    {
      "cell_type": "markdown",
      "source": [
        " Nossas observações iniciais:\n",
        "\n",
        "Há várias colunas de texto em que todos (ou quase todos) os valores são os mesmos:\n",
        "- `saller`\n",
        "- `offer_type`\n",
        "A coluna `num_photos` parece estranha, precisaremos investigar isso mais a fundo."
      ],
      "metadata": {
        "id": "j3J_HJeBy42n"
      }
    },
    {
      "cell_type": "code",
      "source": [
        "autos[\"num_photos\"].value_counts()"
      ],
      "metadata": {
        "colab": {
          "base_uri": "https://localhost:8080/"
        },
        "id": "251Q4-nOyzVH",
        "outputId": "b7225f5d-3b4a-4a59-8754-2fd70e8eecc2"
      },
      "execution_count": 15,
      "outputs": [
        {
          "output_type": "execute_result",
          "data": {
            "text/plain": [
              "0    371528\n",
              "Name: num_photos, dtype: int64"
            ]
          },
          "metadata": {},
          "execution_count": 15
        }
      ]
    },
    {
      "cell_type": "markdown",
      "source": [
        "Parece que a coluna `num_photos` tem 0 para cada coluna. Iremos descartar esta coluna, mais as outras duas que anotamos como um único valor."
      ],
      "metadata": {
        "id": "6ZbXDp6CzzxC"
      }
    },
    {
      "cell_type": "code",
      "source": [
        "autos = autos.drop([\"num_photos\", \"seller\", \"offer_type\"], axis=1)"
      ],
      "metadata": {
        "id": "tQAVuo9azBc6"
      },
      "execution_count": 16,
      "outputs": []
    },
    {
      "cell_type": "markdown",
      "source": [
        "Existem duas colunas, `price` e `auto`, que são valores numéricos com caracteres extras sendo armazenados como texto. Vamos limpá-los e convertê-los."
      ],
      "metadata": {
        "id": "IDfnGSSfz-cr"
      }
    },
    {
      "cell_type": "code",
      "source": [
        "autos[\"price\"] = (autos[\"price\"].astype(str).str.replace(\"$\",\"\").str.replace(\",\",\"\").astype(int))\n",
        "autos[\"price\"].head()"
      ],
      "metadata": {
        "colab": {
          "base_uri": "https://localhost:8080/"
        },
        "id": "7aKgftAcz65R",
        "outputId": "1570e05c-791d-4c05-d0e6-51e07e01a35f"
      },
      "execution_count": 27,
      "outputs": [
        {
          "output_type": "stream",
          "name": "stderr",
          "text": [
            "/usr/local/lib/python3.7/dist-packages/ipykernel_launcher.py:1: FutureWarning: The default value of regex will change from True to False in a future version. In addition, single character regular expressions will *not* be treated as literal strings when regex=True.\n",
            "  \"\"\"Entry point for launching an IPython kernel.\n"
          ]
        },
        {
          "output_type": "execute_result",
          "data": {
            "text/plain": [
              "0      480\n",
              "1    18300\n",
              "2     9800\n",
              "3     1500\n",
              "4     3600\n",
              "Name: price, dtype: int64"
            ]
          },
          "metadata": {},
          "execution_count": 27
        }
      ]
    },
    {
      "cell_type": "code",
      "source": [
        "autos[\"odometer\"] = (autos[\"odometer\"].astype(str)\n",
        "                             .str.replace(\"km\",\"\")\n",
        "                             .str.replace(\",\",\"\")\n",
        "                             .astype(int)\n",
        "                             )\n",
        "autos.rename({\"odometer\": \"odometer_km\"}, axis=1, inplace=True)\n",
        "autos[\"odometer_km\"].head()"
      ],
      "metadata": {
        "colab": {
          "base_uri": "https://localhost:8080/"
        },
        "id": "ixU6echU0G5r",
        "outputId": "fbf00bc9-d42d-48ab-81a7-9296d7172960"
      },
      "execution_count": 28,
      "outputs": [
        {
          "output_type": "execute_result",
          "data": {
            "text/plain": [
              "0    150000\n",
              "1    125000\n",
              "2    125000\n",
              "3    150000\n",
              "4     90000\n",
              "Name: odometer_km, dtype: int64"
            ]
          },
          "metadata": {},
          "execution_count": 28
        }
      ]
    },
    {
      "cell_type": "markdown",
      "source": [
        "## Explorando odômetro e preço"
      ],
      "metadata": {
        "id": "TaGk2OuL1W8E"
      }
    },
    {
      "cell_type": "code",
      "source": [
        "autos[\"odometer_km\"].value_counts()"
      ],
      "metadata": {
        "colab": {
          "base_uri": "https://localhost:8080/"
        },
        "id": "LfcJgC281cFn",
        "outputId": "c62591c3-3159-4944-f573-3038c72b9635"
      },
      "execution_count": 29,
      "outputs": [
        {
          "output_type": "execute_result",
          "data": {
            "text/plain": [
              "150000    240797\n",
              "125000     38067\n",
              "100000     15920\n",
              "90000      12523\n",
              "80000      11053\n",
              "70000       9773\n",
              "60000       8669\n",
              "50000       7615\n",
              "5000        7069\n",
              "40000       6376\n",
              "30000       6041\n",
              "20000       5676\n",
              "10000       1949\n",
              "Name: odometer_km, dtype: int64"
            ]
          },
          "metadata": {},
          "execution_count": 29
        }
      ]
    },
    {
      "cell_type": "markdown",
      "source": [
        "Podemos observar que os valores neste campo são arredondados, o que pode indicar que os vendedores tiveram que escolher entre opções predefinidas para este campo. Além disso, há mais veículos com alta quilometragem do que com baixa quilometragem."
      ],
      "metadata": {
        "id": "UMGT1PRg12GQ"
      }
    },
    {
      "cell_type": "code",
      "source": [
        "print(autos[\"price\"].unique().shape)\n",
        "print(autos[\"price\"].describe())\n",
        "autos[\"price\"].value_counts().head(20)"
      ],
      "metadata": {
        "colab": {
          "base_uri": "https://localhost:8080/"
        },
        "id": "lFvQH6tO14xU",
        "outputId": "e8e9c93d-9462-4b30-c4ef-7f8bd4d7b466"
      },
      "execution_count": 30,
      "outputs": [
        {
          "output_type": "stream",
          "name": "stdout",
          "text": [
            "(5597,)\n",
            "count    3.715280e+05\n",
            "mean     1.729514e+04\n",
            "std      3.587954e+06\n",
            "min      0.000000e+00\n",
            "25%      1.150000e+03\n",
            "50%      2.950000e+03\n",
            "75%      7.200000e+03\n",
            "max      2.147484e+09\n",
            "Name: price, dtype: float64\n"
          ]
        },
        {
          "output_type": "execute_result",
          "data": {
            "text/plain": [
              "0       10778\n",
              "500      5670\n",
              "1500     5394\n",
              "1000     4649\n",
              "1200     4594\n",
              "2500     4438\n",
              "600      3819\n",
              "3500     3792\n",
              "800      3784\n",
              "2000     3432\n",
              "999      3364\n",
              "750      3203\n",
              "650      3150\n",
              "4500     3053\n",
              "850      2946\n",
              "2200     2936\n",
              "700      2936\n",
              "1800     2886\n",
              "900      2874\n",
              "950      2793\n",
              "Name: price, dtype: int64"
            ]
          },
          "metadata": {},
          "execution_count": 30
        }
      ]
    },
    {
      "cell_type": "markdown",
      "source": [
        "Novamente, os preços nesta coluna parecem arredondados, no entanto, como há 2.357 valores únicos na coluna, isso pode ser apenas a tendência das pessoas de arredondar os preços no site.\n",
        "\n",
        "Há 1.421 carros listados com preço de US$ 0 - considerando que isso representa apenas 2% dos carros, podemos considerar a remoção dessas linhas. O preço máximo é de cem milhões de dólares, o que parece muito, vamos dar uma olhada nos preços mais altos."
      ],
      "metadata": {
        "id": "Ybg_pclp19R7"
      }
    },
    {
      "cell_type": "code",
      "source": [
        "autos[\"price\"].value_counts().sort_index(ascending=False).head(20)"
      ],
      "metadata": {
        "colab": {
          "base_uri": "https://localhost:8080/"
        },
        "id": "a3EAPmDN1_60",
        "outputId": "03097850-fc9d-4577-9202-4c9453dd8823"
      },
      "execution_count": 31,
      "outputs": [
        {
          "output_type": "execute_result",
          "data": {
            "text/plain": [
              "2147483647     1\n",
              "99999999      15\n",
              "99000000       1\n",
              "74185296       1\n",
              "32545461       1\n",
              "27322222       1\n",
              "14000500       1\n",
              "12345678       9\n",
              "11111111      10\n",
              "10010011       1\n",
              "10000000       8\n",
              "9999999        3\n",
              "3895000        1\n",
              "3890000        1\n",
              "2995000        1\n",
              "2795000        1\n",
              "1600000        2\n",
              "1300000        1\n",
              "1250000        2\n",
              "1234566        1\n",
              "Name: price, dtype: int64"
            ]
          },
          "metadata": {},
          "execution_count": 31
        }
      ]
    },
    {
      "cell_type": "code",
      "source": [
        "autos[\"price\"].value_counts().sort_index(ascending=True).head(20)"
      ],
      "metadata": {
        "colab": {
          "base_uri": "https://localhost:8080/"
        },
        "id": "IdQ_dtXL2LCk",
        "outputId": "74dc50fc-535a-4e79-cb79-fadccf6fc769"
      },
      "execution_count": 32,
      "outputs": [
        {
          "output_type": "execute_result",
          "data": {
            "text/plain": [
              "0     10778\n",
              "1      1189\n",
              "2        12\n",
              "3         8\n",
              "4         1\n",
              "5        26\n",
              "7         3\n",
              "8         9\n",
              "9         8\n",
              "10       84\n",
              "11        5\n",
              "12        8\n",
              "13        7\n",
              "14        5\n",
              "15       27\n",
              "16        2\n",
              "17        5\n",
              "18        3\n",
              "19        3\n",
              "20       51\n",
              "Name: price, dtype: int64"
            ]
          },
          "metadata": {},
          "execution_count": 32
        }
      ]
    },
    {
      "cell_type": "code",
      "source": [
        "autos = autos[autos[\"price\"].between(1,351000)]\n",
        "autos[\"price\"].describe()"
      ],
      "metadata": {
        "colab": {
          "base_uri": "https://localhost:8080/"
        },
        "id": "FNGrRFGN2LYl",
        "outputId": "02de7680-6f3f-42b8-9f36-0d1bf428ad70"
      },
      "execution_count": 33,
      "outputs": [
        {
          "output_type": "execute_result",
          "data": {
            "text/plain": [
              "count    360635.000000\n",
              "mean       5898.671956\n",
              "std        8866.359669\n",
              "min           1.000000\n",
              "25%        1250.000000\n",
              "50%        3000.000000\n",
              "75%        7490.000000\n",
              "max      350000.000000\n",
              "Name: price, dtype: float64"
            ]
          },
          "metadata": {},
          "execution_count": 33
        }
      ]
    },
    {
      "cell_type": "markdown",
      "source": [
        "## Explorando as colunas de data\n",
        "Há uma série de colunas com informações de data:\n",
        "\n",
        "`date_crawled`\n",
        "\n",
        "`registration_month`\n",
        "\n",
        "`registration_year`\n",
        "\n",
        "`ad_created`\n",
        "\n",
        "`last_seen`\n",
        "\n",
        "\n",
        "Estas são uma combinação de datas que foram rastreadas e datas com meta-informações do rastreador. As datas de não registro são armazenadas como strings.\n",
        "\n",
        "Exploraremos cada uma dessas colunas para saber mais sobre as listagens."
      ],
      "metadata": {
        "id": "fADtEXel2yLe"
      }
    },
    {
      "cell_type": "code",
      "source": [
        "autos[['date_crawled','ad_created','last_seen']][0:5]"
      ],
      "metadata": {
        "colab": {
          "base_uri": "https://localhost:8080/",
          "height": 206
        },
        "id": "GMNOkW0V2xWV",
        "outputId": "d21aff58-a145-4704-c51c-26dc92de1730"
      },
      "execution_count": 34,
      "outputs": [
        {
          "output_type": "execute_result",
          "data": {
            "text/plain": [
              "          date_crawled           ad_created            last_seen\n",
              "0  2016-03-24 11:52:17  2016-03-24 00:00:00  2016-04-07 03:16:57\n",
              "1  2016-03-24 10:58:45  2016-03-24 00:00:00  2016-04-07 01:46:50\n",
              "2  2016-03-14 12:52:21  2016-03-14 00:00:00  2016-04-05 12:47:46\n",
              "3  2016-03-17 16:54:04  2016-03-17 00:00:00  2016-03-17 17:40:17\n",
              "4  2016-03-31 17:25:20  2016-03-31 00:00:00  2016-04-06 10:17:21"
            ],
            "text/html": [
              "\n",
              "  <div id=\"df-22e331a1-5a85-4f92-9753-3cb37151fce7\">\n",
              "    <div class=\"colab-df-container\">\n",
              "      <div>\n",
              "<style scoped>\n",
              "    .dataframe tbody tr th:only-of-type {\n",
              "        vertical-align: middle;\n",
              "    }\n",
              "\n",
              "    .dataframe tbody tr th {\n",
              "        vertical-align: top;\n",
              "    }\n",
              "\n",
              "    .dataframe thead th {\n",
              "        text-align: right;\n",
              "    }\n",
              "</style>\n",
              "<table border=\"1\" class=\"dataframe\">\n",
              "  <thead>\n",
              "    <tr style=\"text-align: right;\">\n",
              "      <th></th>\n",
              "      <th>date_crawled</th>\n",
              "      <th>ad_created</th>\n",
              "      <th>last_seen</th>\n",
              "    </tr>\n",
              "  </thead>\n",
              "  <tbody>\n",
              "    <tr>\n",
              "      <th>0</th>\n",
              "      <td>2016-03-24 11:52:17</td>\n",
              "      <td>2016-03-24 00:00:00</td>\n",
              "      <td>2016-04-07 03:16:57</td>\n",
              "    </tr>\n",
              "    <tr>\n",
              "      <th>1</th>\n",
              "      <td>2016-03-24 10:58:45</td>\n",
              "      <td>2016-03-24 00:00:00</td>\n",
              "      <td>2016-04-07 01:46:50</td>\n",
              "    </tr>\n",
              "    <tr>\n",
              "      <th>2</th>\n",
              "      <td>2016-03-14 12:52:21</td>\n",
              "      <td>2016-03-14 00:00:00</td>\n",
              "      <td>2016-04-05 12:47:46</td>\n",
              "    </tr>\n",
              "    <tr>\n",
              "      <th>3</th>\n",
              "      <td>2016-03-17 16:54:04</td>\n",
              "      <td>2016-03-17 00:00:00</td>\n",
              "      <td>2016-03-17 17:40:17</td>\n",
              "    </tr>\n",
              "    <tr>\n",
              "      <th>4</th>\n",
              "      <td>2016-03-31 17:25:20</td>\n",
              "      <td>2016-03-31 00:00:00</td>\n",
              "      <td>2016-04-06 10:17:21</td>\n",
              "    </tr>\n",
              "  </tbody>\n",
              "</table>\n",
              "</div>\n",
              "      <button class=\"colab-df-convert\" onclick=\"convertToInteractive('df-22e331a1-5a85-4f92-9753-3cb37151fce7')\"\n",
              "              title=\"Convert this dataframe to an interactive table.\"\n",
              "              style=\"display:none;\">\n",
              "        \n",
              "  <svg xmlns=\"http://www.w3.org/2000/svg\" height=\"24px\"viewBox=\"0 0 24 24\"\n",
              "       width=\"24px\">\n",
              "    <path d=\"M0 0h24v24H0V0z\" fill=\"none\"/>\n",
              "    <path d=\"M18.56 5.44l.94 2.06.94-2.06 2.06-.94-2.06-.94-.94-2.06-.94 2.06-2.06.94zm-11 1L8.5 8.5l.94-2.06 2.06-.94-2.06-.94L8.5 2.5l-.94 2.06-2.06.94zm10 10l.94 2.06.94-2.06 2.06-.94-2.06-.94-.94-2.06-.94 2.06-2.06.94z\"/><path d=\"M17.41 7.96l-1.37-1.37c-.4-.4-.92-.59-1.43-.59-.52 0-1.04.2-1.43.59L10.3 9.45l-7.72 7.72c-.78.78-.78 2.05 0 2.83L4 21.41c.39.39.9.59 1.41.59.51 0 1.02-.2 1.41-.59l7.78-7.78 2.81-2.81c.8-.78.8-2.07 0-2.86zM5.41 20L4 18.59l7.72-7.72 1.47 1.35L5.41 20z\"/>\n",
              "  </svg>\n",
              "      </button>\n",
              "      \n",
              "  <style>\n",
              "    .colab-df-container {\n",
              "      display:flex;\n",
              "      flex-wrap:wrap;\n",
              "      gap: 12px;\n",
              "    }\n",
              "\n",
              "    .colab-df-convert {\n",
              "      background-color: #E8F0FE;\n",
              "      border: none;\n",
              "      border-radius: 50%;\n",
              "      cursor: pointer;\n",
              "      display: none;\n",
              "      fill: #1967D2;\n",
              "      height: 32px;\n",
              "      padding: 0 0 0 0;\n",
              "      width: 32px;\n",
              "    }\n",
              "\n",
              "    .colab-df-convert:hover {\n",
              "      background-color: #E2EBFA;\n",
              "      box-shadow: 0px 1px 2px rgba(60, 64, 67, 0.3), 0px 1px 3px 1px rgba(60, 64, 67, 0.15);\n",
              "      fill: #174EA6;\n",
              "    }\n",
              "\n",
              "    [theme=dark] .colab-df-convert {\n",
              "      background-color: #3B4455;\n",
              "      fill: #D2E3FC;\n",
              "    }\n",
              "\n",
              "    [theme=dark] .colab-df-convert:hover {\n",
              "      background-color: #434B5C;\n",
              "      box-shadow: 0px 1px 3px 1px rgba(0, 0, 0, 0.15);\n",
              "      filter: drop-shadow(0px 1px 2px rgba(0, 0, 0, 0.3));\n",
              "      fill: #FFFFFF;\n",
              "    }\n",
              "  </style>\n",
              "\n",
              "      <script>\n",
              "        const buttonEl =\n",
              "          document.querySelector('#df-22e331a1-5a85-4f92-9753-3cb37151fce7 button.colab-df-convert');\n",
              "        buttonEl.style.display =\n",
              "          google.colab.kernel.accessAllowed ? 'block' : 'none';\n",
              "\n",
              "        async function convertToInteractive(key) {\n",
              "          const element = document.querySelector('#df-22e331a1-5a85-4f92-9753-3cb37151fce7');\n",
              "          const dataTable =\n",
              "            await google.colab.kernel.invokeFunction('convertToInteractive',\n",
              "                                                     [key], {});\n",
              "          if (!dataTable) return;\n",
              "\n",
              "          const docLinkHtml = 'Like what you see? Visit the ' +\n",
              "            '<a target=\"_blank\" href=https://colab.research.google.com/notebooks/data_table.ipynb>data table notebook</a>'\n",
              "            + ' to learn more about interactive tables.';\n",
              "          element.innerHTML = '';\n",
              "          dataTable['output_type'] = 'display_data';\n",
              "          await google.colab.output.renderOutput(dataTable, element);\n",
              "          const docLink = document.createElement('div');\n",
              "          docLink.innerHTML = docLinkHtml;\n",
              "          element.appendChild(docLink);\n",
              "        }\n",
              "      </script>\n",
              "    </div>\n",
              "  </div>\n",
              "  "
            ]
          },
          "metadata": {},
          "execution_count": 34
        }
      ]
    },
    {
      "cell_type": "code",
      "source": [
        "(autos[\"date_crawled\"]\n",
        "        .str[:10]\n",
        "        .value_counts(normalize=True, dropna=False)\n",
        "        .sort_index()\n",
        "        )"
      ],
      "metadata": {
        "colab": {
          "base_uri": "https://localhost:8080/"
        },
        "id": "bs-y7Jd83C17",
        "outputId": "ba76e09b-5f09-4d2d-b78d-cfe14fed519a"
      },
      "execution_count": 35,
      "outputs": [
        {
          "output_type": "execute_result",
          "data": {
            "text/plain": [
              "2016-03-05    0.025547\n",
              "2016-03-06    0.014483\n",
              "2016-03-07    0.035657\n",
              "2016-03-08    0.033469\n",
              "2016-03-09    0.034115\n",
              "2016-03-10    0.032645\n",
              "2016-03-11    0.032773\n",
              "2016-03-12    0.036242\n",
              "2016-03-13    0.015783\n",
              "2016-03-14    0.036330\n",
              "2016-03-15    0.033424\n",
              "2016-03-16    0.030205\n",
              "2016-03-17    0.031647\n",
              "2016-03-18    0.013119\n",
              "2016-03-19    0.035271\n",
              "2016-03-20    0.036400\n",
              "2016-03-21    0.035682\n",
              "2016-03-22    0.032493\n",
              "2016-03-23    0.032002\n",
              "2016-03-24    0.029914\n",
              "2016-03-25    0.032800\n",
              "2016-03-26    0.031974\n",
              "2016-03-27    0.030227\n",
              "2016-03-28    0.035063\n",
              "2016-03-29    0.034126\n",
              "2016-03-30    0.033535\n",
              "2016-03-31    0.031872\n",
              "2016-04-01    0.034145\n",
              "2016-04-02    0.035094\n",
              "2016-04-03    0.038812\n",
              "2016-04-04    0.037628\n",
              "2016-04-05    0.012780\n",
              "2016-04-06    0.003128\n",
              "2016-04-07    0.001617\n",
              "Name: date_crawled, dtype: float64"
            ]
          },
          "metadata": {},
          "execution_count": 35
        }
      ]
    },
    {
      "cell_type": "code",
      "source": [
        "(autos[\"date_crawled\"]\n",
        "        .str[:10]\n",
        "        .value_counts(normalize=True, dropna=False)\n",
        "        .sort_values()\n",
        "        )"
      ],
      "metadata": {
        "colab": {
          "base_uri": "https://localhost:8080/"
        },
        "id": "IvEQTyjp3EKv",
        "outputId": "b31a4899-21c7-463e-fdba-11131262b99b"
      },
      "execution_count": 36,
      "outputs": [
        {
          "output_type": "execute_result",
          "data": {
            "text/plain": [
              "2016-04-07    0.001617\n",
              "2016-04-06    0.003128\n",
              "2016-04-05    0.012780\n",
              "2016-03-18    0.013119\n",
              "2016-03-06    0.014483\n",
              "2016-03-13    0.015783\n",
              "2016-03-05    0.025547\n",
              "2016-03-24    0.029914\n",
              "2016-03-16    0.030205\n",
              "2016-03-27    0.030227\n",
              "2016-03-17    0.031647\n",
              "2016-03-31    0.031872\n",
              "2016-03-26    0.031974\n",
              "2016-03-23    0.032002\n",
              "2016-03-22    0.032493\n",
              "2016-03-10    0.032645\n",
              "2016-03-11    0.032773\n",
              "2016-03-25    0.032800\n",
              "2016-03-15    0.033424\n",
              "2016-03-08    0.033469\n",
              "2016-03-30    0.033535\n",
              "2016-03-09    0.034115\n",
              "2016-03-29    0.034126\n",
              "2016-04-01    0.034145\n",
              "2016-03-28    0.035063\n",
              "2016-04-02    0.035094\n",
              "2016-03-19    0.035271\n",
              "2016-03-07    0.035657\n",
              "2016-03-21    0.035682\n",
              "2016-03-12    0.036242\n",
              "2016-03-14    0.036330\n",
              "2016-03-20    0.036400\n",
              "2016-04-04    0.037628\n",
              "2016-04-03    0.038812\n",
              "Name: date_crawled, dtype: float64"
            ]
          },
          "metadata": {},
          "execution_count": 36
        }
      ]
    },
    {
      "cell_type": "markdown",
      "source": [
        "Parece que o site foi rastreado diariamente durante aproximadamente um mês em março e abril de 2016. A distribuição das listagens rastreadas a cada dia é aproximadamente uniforme."
      ],
      "metadata": {
        "id": "vgkBi6Pv3KAx"
      }
    },
    {
      "cell_type": "code",
      "source": [
        "(autos[\"last_seen\"]\n",
        "        .str[:10]\n",
        "        .value_counts(normalize=True, dropna=False)\n",
        "        .sort_index()\n",
        "        )"
      ],
      "metadata": {
        "colab": {
          "base_uri": "https://localhost:8080/"
        },
        "id": "CaDDOzz83F8l",
        "outputId": "dc56d88a-0b46-44d9-9d4d-0d29f92ae638"
      },
      "execution_count": 37,
      "outputs": [
        {
          "output_type": "execute_result",
          "data": {
            "text/plain": [
              "2016-03-05    0.001264\n",
              "2016-03-06    0.004098\n",
              "2016-03-07    0.005202\n",
              "2016-03-08    0.007939\n",
              "2016-03-09    0.009824\n",
              "2016-03-10    0.011460\n",
              "2016-03-11    0.012955\n",
              "2016-03-12    0.023240\n",
              "2016-03-13    0.008410\n",
              "2016-03-14    0.012176\n",
              "2016-03-15    0.016324\n",
              "2016-03-16    0.016418\n",
              "2016-03-17    0.028699\n",
              "2016-03-18    0.006888\n",
              "2016-03-19    0.016330\n",
              "2016-03-20    0.019884\n",
              "2016-03-21    0.020026\n",
              "2016-03-22    0.020508\n",
              "2016-03-23    0.018015\n",
              "2016-03-24    0.019163\n",
              "2016-03-25    0.019000\n",
              "2016-03-26    0.015958\n",
              "2016-03-27    0.016721\n",
              "2016-03-28    0.022189\n",
              "2016-03-29    0.023284\n",
              "2016-03-30    0.023725\n",
              "2016-03-31    0.024243\n",
              "2016-04-01    0.023897\n",
              "2016-04-02    0.024967\n",
              "2016-04-03    0.025308\n",
              "2016-04-04    0.025536\n",
              "2016-04-05    0.126962\n",
              "2016-04-06    0.218950\n",
              "2016-04-07    0.130437\n",
              "Name: last_seen, dtype: float64"
            ]
          },
          "metadata": {},
          "execution_count": 37
        }
      ]
    },
    {
      "cell_type": "markdown",
      "source": [
        "O rastreador registrou a data em que viu qualquer listagem pela última vez, o que nos permite determinar em que dia uma listagem foi removida, presumivelmente porque o carro foi vendido.\n",
        "\n",
        "Os últimos três dias contêm uma quantidade desproporcional de valores 'vistos pela última vez'. Dado que esses valores são de 6 a 10 vezes os valores dos dias anteriores, é improvável que tenha havido um grande aumento nas vendas e, mais provavelmente, esses valores estão relacionados ao final do período de rastreamento e não indicam vendas de carros."
      ],
      "metadata": {
        "id": "HOTj_pig3Q10"
      }
    },
    {
      "cell_type": "code",
      "source": [
        "print(autos[\"ad_created\"].str[:10].unique().shape)\n",
        "(autos[\"ad_created\"]\n",
        "        .str[:10]\n",
        "        .value_counts(normalize=True, dropna=False)\n",
        "        .sort_index()\n",
        "        )"
      ],
      "metadata": {
        "colab": {
          "base_uri": "https://localhost:8080/"
        },
        "id": "LZwv7iFO3MY4",
        "outputId": "2901e1c7-2668-469e-d585-6856e9908545"
      },
      "execution_count": 38,
      "outputs": [
        {
          "output_type": "stream",
          "name": "stdout",
          "text": [
            "(114,)\n"
          ]
        },
        {
          "output_type": "execute_result",
          "data": {
            "text/plain": [
              "2014-03-10    0.000003\n",
              "2015-03-20    0.000003\n",
              "2015-06-11    0.000003\n",
              "2015-06-18    0.000003\n",
              "2015-08-07    0.000003\n",
              "                ...   \n",
              "2016-04-03    0.039001\n",
              "2016-04-04    0.037736\n",
              "2016-04-05    0.011613\n",
              "2016-04-06    0.003119\n",
              "2016-04-07    0.001553\n",
              "Name: ad_created, Length: 114, dtype: float64"
            ]
          },
          "metadata": {},
          "execution_count": 38
        }
      ]
    },
    {
      "cell_type": "markdown",
      "source": [
        "Há uma grande variedade de datas de criação de anúncios. A maioria cai dentro de 1 a 2 meses da data da listagem, mas alguns são bastante antigos, com o mais antigo em torno de 9 meses."
      ],
      "metadata": {
        "id": "ttj1VsMf3aIu"
      }
    },
    {
      "cell_type": "code",
      "source": [
        "autos[\"registration_year\"].describe()"
      ],
      "metadata": {
        "colab": {
          "base_uri": "https://localhost:8080/"
        },
        "id": "OJfaiuU23T16",
        "outputId": "852d3c5d-a4d7-4fcc-d8a8-17bde19b8f81"
      },
      "execution_count": 39,
      "outputs": [
        {
          "output_type": "execute_result",
          "data": {
            "text/plain": [
              "count    360635.000000\n",
              "mean       2004.433133\n",
              "std          81.016977\n",
              "min        1000.000000\n",
              "25%        1999.000000\n",
              "50%        2004.000000\n",
              "75%        2008.000000\n",
              "max        9999.000000\n",
              "Name: registration_year, dtype: float64"
            ]
          },
          "metadata": {},
          "execution_count": 39
        }
      ]
    },
    {
      "cell_type": "markdown",
      "source": [
        "O ano em que o carro foi registrado pela primeira vez provavelmente indicará a idade do carro. Olhando para esta coluna, notamos alguns valores ímpares. O valor mínimo é 1000, muito antes dos carros serem inventados e o máximo é 9999, muitos anos no futuro.\n",
        "\n",
        "## Lidando com dados de ano de registro incorretos\n",
        "\n",
        "Como um carro não pode ser registrado primeiro antes que a listagem seja vista, qualquer veículo com ano de registro acima de 2016 é definitivamente impreciso. Determinar o primeiro ano válido é mais difícil. Realisticamente, poderia estar em algum lugar nas primeiras décadas de 1900.\n",
        "\n",
        "Uma opção é remover as listagens com esses valores. Vamos determinar qual porcentagem de nossos dados tem valores inválidos nesta coluna:"
      ],
      "metadata": {
        "id": "jOCc940B3ttf"
      }
    },
    {
      "cell_type": "code",
      "source": [
        "(~autos[\"registration_year\"].between(1900,2016)).sum() / autos.shape[0]"
      ],
      "metadata": {
        "colab": {
          "base_uri": "https://localhost:8080/"
        },
        "id": "L_5IHNyT3dOA",
        "outputId": "e4e4fdbd-2e72-4626-cd0d-c6ab4f8da9e6"
      },
      "execution_count": 40,
      "outputs": [
        {
          "output_type": "execute_result",
          "data": {
            "text/plain": [
              "0.038751091824143526"
            ]
          },
          "metadata": {},
          "execution_count": 40
        }
      ]
    },
    {
      "cell_type": "markdown",
      "source": [
        "Dado que isso é menos de 4% de nossos dados, removeremos essas linhas."
      ],
      "metadata": {
        "id": "zhyrQJWw343F"
      }
    },
    {
      "cell_type": "code",
      "source": [
        "# Many ways to select rows in a dataframe that fall within a value range for a column.\n",
        "# Using `Series.between()` is one way.\n",
        "autos = autos[autos[\"registration_year\"].between(1900,2016)]\n",
        "autos[\"registration_year\"].value_counts(normalize=True).head(10)"
      ],
      "metadata": {
        "colab": {
          "base_uri": "https://localhost:8080/"
        },
        "id": "g49ByXQs32W3",
        "outputId": "b2433873-a971-465b-8119-0f8d50fd8e7c"
      },
      "execution_count": 41,
      "outputs": [
        {
          "output_type": "execute_result",
          "data": {
            "text/plain": [
              "2000    0.066699\n",
              "1999    0.063552\n",
              "2005    0.062669\n",
              "2006    0.057708\n",
              "2001    0.056955\n",
              "2003    0.056557\n",
              "2004    0.056173\n",
              "2002    0.054290\n",
              "2007    0.050499\n",
              "1998    0.049691\n",
              "Name: registration_year, dtype: float64"
            ]
          },
          "metadata": {},
          "execution_count": 41
        }
      ]
    },
    {
      "cell_type": "markdown",
      "source": [
        "Parece que a maioria dos veículos foi registrada pela primeira vez nos últimos 20 anos."
      ],
      "metadata": {
        "id": "fXsU6pqG4BcE"
      }
    },
    {
      "cell_type": "markdown",
      "source": [
        "## Explorando o preço por marca"
      ],
      "metadata": {
        "id": "rCp13ZSA4HXB"
      }
    },
    {
      "cell_type": "code",
      "source": [
        "autos[\"brand\"].value_counts(normalize=True)"
      ],
      "metadata": {
        "colab": {
          "base_uri": "https://localhost:8080/"
        },
        "id": "5FyTG3ke330i",
        "outputId": "e33a25a3-c42b-4591-960a-0566e6a61660"
      },
      "execution_count": 42,
      "outputs": [
        {
          "output_type": "execute_result",
          "data": {
            "text/plain": [
              "volkswagen        0.211700\n",
              "bmw               0.109871\n",
              "opel              0.106410\n",
              "mercedes_benz     0.096841\n",
              "audi              0.089543\n",
              "ford              0.068918\n",
              "renault           0.047516\n",
              "peugeot           0.030153\n",
              "fiat              0.025691\n",
              "seat              0.018661\n",
              "skoda             0.015687\n",
              "mazda             0.015384\n",
              "smart             0.014331\n",
              "citroen           0.013950\n",
              "nissan            0.013598\n",
              "toyota            0.012932\n",
              "hyundai           0.009972\n",
              "sonstige_autos    0.009493\n",
              "mini              0.009384\n",
              "volvo             0.009147\n",
              "mitsubishi        0.008236\n",
              "honda             0.007532\n",
              "kia               0.006915\n",
              "suzuki            0.006364\n",
              "alfa_romeo        0.006309\n",
              "porsche           0.006211\n",
              "chevrolet         0.005022\n",
              "chrysler          0.003863\n",
              "dacia             0.002495\n",
              "jeep              0.002192\n",
              "land_rover        0.002166\n",
              "daihatsu          0.002161\n",
              "subaru            0.002117\n",
              "jaguar            0.001734\n",
              "saab              0.001465\n",
              "daewoo            0.001457\n",
              "trabant           0.001408\n",
              "lancia            0.001301\n",
              "rover             0.001272\n",
              "lada              0.000597\n",
              "Name: brand, dtype: float64"
            ]
          },
          "metadata": {},
          "execution_count": 42
        }
      ]
    },
    {
      "cell_type": "markdown",
      "source": [
        "Os fabricantes alemães representam quatro das cinco principais marcas, quase 50% das listas gerais. A Volkswagen é de longe a marca mais popular, com aproximadamente o dobro dos carros à venda das próximas duas marcas combinadas.\n",
        "\n",
        "Existem muitas marcas que não possuem uma porcentagem significativa de listagens, portanto, limitaremos nossa análise às marcas que representam mais de 5% do total de listagens."
      ],
      "metadata": {
        "id": "5jVyb2W04PbA"
      }
    },
    {
      "cell_type": "code",
      "source": [
        "brand_counts = autos[\"brand\"].value_counts(normalize=True)\n",
        "common_brands = brand_counts[brand_counts > .05].index\n",
        "print(common_brands)"
      ],
      "metadata": {
        "colab": {
          "base_uri": "https://localhost:8080/"
        },
        "id": "MWr0Mltz4KW6",
        "outputId": "23460a80-9eed-441b-9cfb-bc667d14d366"
      },
      "execution_count": 43,
      "outputs": [
        {
          "output_type": "stream",
          "name": "stdout",
          "text": [
            "Index(['volkswagen', 'bmw', 'opel', 'mercedes_benz', 'audi', 'ford'], dtype='object')\n"
          ]
        }
      ]
    },
    {
      "cell_type": "code",
      "source": [
        "brand_mean_prices = {}\n",
        "\n",
        "for brand in common_brands:\n",
        "    brand_only = autos[autos[\"brand\"] == brand]\n",
        "    mean_price = brand_only[\"price\"].mean()\n",
        "    brand_mean_prices[brand] = int(mean_price)\n",
        "\n",
        "brand_mean_prices"
      ],
      "metadata": {
        "colab": {
          "base_uri": "https://localhost:8080/"
        },
        "id": "xUxte9G44St3",
        "outputId": "4a84b762-1478-44b5-9b32-5d59f48061be"
      },
      "execution_count": 44,
      "outputs": [
        {
          "output_type": "execute_result",
          "data": {
            "text/plain": [
              "{'volkswagen': 5400,\n",
              " 'bmw': 8449,\n",
              " 'opel': 2971,\n",
              " 'mercedes_benz': 8551,\n",
              " 'audi': 9086,\n",
              " 'ford': 3696}"
            ]
          },
          "metadata": {},
          "execution_count": 44
        }
      ]
    },
    {
      "cell_type": "markdown",
      "source": [
        "Das 5 principais marcas, há uma diferença de preço distinta:\n",
        "\n",
        "Audi, BMW e Mercedes Benz são mais caros\n",
        "\n",
        "Ford e Opel são menos caros\n",
        "\n",
        "A Volkswagen está no meio - isso pode explicar sua popularidade, pode ser a opção \"melhor dos dois mundos\"."
      ],
      "metadata": {
        "id": "e1FkB50S4XYh"
      }
    },
    {
      "cell_type": "markdown",
      "source": [
        "## Explorando a milhagem"
      ],
      "metadata": {
        "id": "e0qXii8u4fVX"
      }
    },
    {
      "cell_type": "code",
      "source": [
        "bmp_series = pd.Series(brand_mean_prices)\n",
        "pd.DataFrame(bmp_series, columns=[\"mean_price\"])"
      ],
      "metadata": {
        "colab": {
          "base_uri": "https://localhost:8080/",
          "height": 238
        },
        "id": "lBPdtYVh4T9L",
        "outputId": "d67aac53-02e9-49ad-d2be-d2d725a8a4ee"
      },
      "execution_count": 45,
      "outputs": [
        {
          "output_type": "execute_result",
          "data": {
            "text/plain": [
              "               mean_price\n",
              "volkswagen           5400\n",
              "bmw                  8449\n",
              "opel                 2971\n",
              "mercedes_benz        8551\n",
              "audi                 9086\n",
              "ford                 3696"
            ],
            "text/html": [
              "\n",
              "  <div id=\"df-1d5ef0cb-d3de-4391-bb9f-d00469457c27\">\n",
              "    <div class=\"colab-df-container\">\n",
              "      <div>\n",
              "<style scoped>\n",
              "    .dataframe tbody tr th:only-of-type {\n",
              "        vertical-align: middle;\n",
              "    }\n",
              "\n",
              "    .dataframe tbody tr th {\n",
              "        vertical-align: top;\n",
              "    }\n",
              "\n",
              "    .dataframe thead th {\n",
              "        text-align: right;\n",
              "    }\n",
              "</style>\n",
              "<table border=\"1\" class=\"dataframe\">\n",
              "  <thead>\n",
              "    <tr style=\"text-align: right;\">\n",
              "      <th></th>\n",
              "      <th>mean_price</th>\n",
              "    </tr>\n",
              "  </thead>\n",
              "  <tbody>\n",
              "    <tr>\n",
              "      <th>volkswagen</th>\n",
              "      <td>5400</td>\n",
              "    </tr>\n",
              "    <tr>\n",
              "      <th>bmw</th>\n",
              "      <td>8449</td>\n",
              "    </tr>\n",
              "    <tr>\n",
              "      <th>opel</th>\n",
              "      <td>2971</td>\n",
              "    </tr>\n",
              "    <tr>\n",
              "      <th>mercedes_benz</th>\n",
              "      <td>8551</td>\n",
              "    </tr>\n",
              "    <tr>\n",
              "      <th>audi</th>\n",
              "      <td>9086</td>\n",
              "    </tr>\n",
              "    <tr>\n",
              "      <th>ford</th>\n",
              "      <td>3696</td>\n",
              "    </tr>\n",
              "  </tbody>\n",
              "</table>\n",
              "</div>\n",
              "      <button class=\"colab-df-convert\" onclick=\"convertToInteractive('df-1d5ef0cb-d3de-4391-bb9f-d00469457c27')\"\n",
              "              title=\"Convert this dataframe to an interactive table.\"\n",
              "              style=\"display:none;\">\n",
              "        \n",
              "  <svg xmlns=\"http://www.w3.org/2000/svg\" height=\"24px\"viewBox=\"0 0 24 24\"\n",
              "       width=\"24px\">\n",
              "    <path d=\"M0 0h24v24H0V0z\" fill=\"none\"/>\n",
              "    <path d=\"M18.56 5.44l.94 2.06.94-2.06 2.06-.94-2.06-.94-.94-2.06-.94 2.06-2.06.94zm-11 1L8.5 8.5l.94-2.06 2.06-.94-2.06-.94L8.5 2.5l-.94 2.06-2.06.94zm10 10l.94 2.06.94-2.06 2.06-.94-2.06-.94-.94-2.06-.94 2.06-2.06.94z\"/><path d=\"M17.41 7.96l-1.37-1.37c-.4-.4-.92-.59-1.43-.59-.52 0-1.04.2-1.43.59L10.3 9.45l-7.72 7.72c-.78.78-.78 2.05 0 2.83L4 21.41c.39.39.9.59 1.41.59.51 0 1.02-.2 1.41-.59l7.78-7.78 2.81-2.81c.8-.78.8-2.07 0-2.86zM5.41 20L4 18.59l7.72-7.72 1.47 1.35L5.41 20z\"/>\n",
              "  </svg>\n",
              "      </button>\n",
              "      \n",
              "  <style>\n",
              "    .colab-df-container {\n",
              "      display:flex;\n",
              "      flex-wrap:wrap;\n",
              "      gap: 12px;\n",
              "    }\n",
              "\n",
              "    .colab-df-convert {\n",
              "      background-color: #E8F0FE;\n",
              "      border: none;\n",
              "      border-radius: 50%;\n",
              "      cursor: pointer;\n",
              "      display: none;\n",
              "      fill: #1967D2;\n",
              "      height: 32px;\n",
              "      padding: 0 0 0 0;\n",
              "      width: 32px;\n",
              "    }\n",
              "\n",
              "    .colab-df-convert:hover {\n",
              "      background-color: #E2EBFA;\n",
              "      box-shadow: 0px 1px 2px rgba(60, 64, 67, 0.3), 0px 1px 3px 1px rgba(60, 64, 67, 0.15);\n",
              "      fill: #174EA6;\n",
              "    }\n",
              "\n",
              "    [theme=dark] .colab-df-convert {\n",
              "      background-color: #3B4455;\n",
              "      fill: #D2E3FC;\n",
              "    }\n",
              "\n",
              "    [theme=dark] .colab-df-convert:hover {\n",
              "      background-color: #434B5C;\n",
              "      box-shadow: 0px 1px 3px 1px rgba(0, 0, 0, 0.15);\n",
              "      filter: drop-shadow(0px 1px 2px rgba(0, 0, 0, 0.3));\n",
              "      fill: #FFFFFF;\n",
              "    }\n",
              "  </style>\n",
              "\n",
              "      <script>\n",
              "        const buttonEl =\n",
              "          document.querySelector('#df-1d5ef0cb-d3de-4391-bb9f-d00469457c27 button.colab-df-convert');\n",
              "        buttonEl.style.display =\n",
              "          google.colab.kernel.accessAllowed ? 'block' : 'none';\n",
              "\n",
              "        async function convertToInteractive(key) {\n",
              "          const element = document.querySelector('#df-1d5ef0cb-d3de-4391-bb9f-d00469457c27');\n",
              "          const dataTable =\n",
              "            await google.colab.kernel.invokeFunction('convertToInteractive',\n",
              "                                                     [key], {});\n",
              "          if (!dataTable) return;\n",
              "\n",
              "          const docLinkHtml = 'Like what you see? Visit the ' +\n",
              "            '<a target=\"_blank\" href=https://colab.research.google.com/notebooks/data_table.ipynb>data table notebook</a>'\n",
              "            + ' to learn more about interactive tables.';\n",
              "          element.innerHTML = '';\n",
              "          dataTable['output_type'] = 'display_data';\n",
              "          await google.colab.output.renderOutput(dataTable, element);\n",
              "          const docLink = document.createElement('div');\n",
              "          docLink.innerHTML = docLinkHtml;\n",
              "          element.appendChild(docLink);\n",
              "        }\n",
              "      </script>\n",
              "    </div>\n",
              "  </div>\n",
              "  "
            ]
          },
          "metadata": {},
          "execution_count": 45
        }
      ]
    },
    {
      "cell_type": "code",
      "source": [
        "brand_mean_mileage = {}\n",
        "\n",
        "for brand in common_brands:\n",
        "    brand_only = autos[autos[\"brand\"] == brand]\n",
        "    mean_mileage = brand_only[\"odometer_km\"].mean()\n",
        "    brand_mean_mileage[brand] = int(mean_mileage)\n",
        "\n",
        "mean_mileage = pd.Series(brand_mean_mileage).sort_values(ascending=False)\n",
        "mean_prices = pd.Series(brand_mean_prices).sort_values(ascending=False)"
      ],
      "metadata": {
        "id": "CRJSSFJT4jNR"
      },
      "execution_count": 46,
      "outputs": []
    },
    {
      "cell_type": "code",
      "source": [
        "brand_info = pd.DataFrame(mean_mileage,columns=['mean_mileage'])\n",
        "brand_info"
      ],
      "metadata": {
        "colab": {
          "base_uri": "https://localhost:8080/",
          "height": 238
        },
        "id": "blcGXMwu4kYM",
        "outputId": "6d0e3f8c-6238-4329-aa06-7cc1e4743750"
      },
      "execution_count": 47,
      "outputs": [
        {
          "output_type": "execute_result",
          "data": {
            "text/plain": [
              "               mean_mileage\n",
              "bmw                  132800\n",
              "mercedes_benz        130572\n",
              "audi                 129443\n",
              "opel                 128722\n",
              "volkswagen           128386\n",
              "ford                 123662"
            ],
            "text/html": [
              "\n",
              "  <div id=\"df-0c583855-13c4-4a33-8ab6-6a0a72c7514b\">\n",
              "    <div class=\"colab-df-container\">\n",
              "      <div>\n",
              "<style scoped>\n",
              "    .dataframe tbody tr th:only-of-type {\n",
              "        vertical-align: middle;\n",
              "    }\n",
              "\n",
              "    .dataframe tbody tr th {\n",
              "        vertical-align: top;\n",
              "    }\n",
              "\n",
              "    .dataframe thead th {\n",
              "        text-align: right;\n",
              "    }\n",
              "</style>\n",
              "<table border=\"1\" class=\"dataframe\">\n",
              "  <thead>\n",
              "    <tr style=\"text-align: right;\">\n",
              "      <th></th>\n",
              "      <th>mean_mileage</th>\n",
              "    </tr>\n",
              "  </thead>\n",
              "  <tbody>\n",
              "    <tr>\n",
              "      <th>bmw</th>\n",
              "      <td>132800</td>\n",
              "    </tr>\n",
              "    <tr>\n",
              "      <th>mercedes_benz</th>\n",
              "      <td>130572</td>\n",
              "    </tr>\n",
              "    <tr>\n",
              "      <th>audi</th>\n",
              "      <td>129443</td>\n",
              "    </tr>\n",
              "    <tr>\n",
              "      <th>opel</th>\n",
              "      <td>128722</td>\n",
              "    </tr>\n",
              "    <tr>\n",
              "      <th>volkswagen</th>\n",
              "      <td>128386</td>\n",
              "    </tr>\n",
              "    <tr>\n",
              "      <th>ford</th>\n",
              "      <td>123662</td>\n",
              "    </tr>\n",
              "  </tbody>\n",
              "</table>\n",
              "</div>\n",
              "      <button class=\"colab-df-convert\" onclick=\"convertToInteractive('df-0c583855-13c4-4a33-8ab6-6a0a72c7514b')\"\n",
              "              title=\"Convert this dataframe to an interactive table.\"\n",
              "              style=\"display:none;\">\n",
              "        \n",
              "  <svg xmlns=\"http://www.w3.org/2000/svg\" height=\"24px\"viewBox=\"0 0 24 24\"\n",
              "       width=\"24px\">\n",
              "    <path d=\"M0 0h24v24H0V0z\" fill=\"none\"/>\n",
              "    <path d=\"M18.56 5.44l.94 2.06.94-2.06 2.06-.94-2.06-.94-.94-2.06-.94 2.06-2.06.94zm-11 1L8.5 8.5l.94-2.06 2.06-.94-2.06-.94L8.5 2.5l-.94 2.06-2.06.94zm10 10l.94 2.06.94-2.06 2.06-.94-2.06-.94-.94-2.06-.94 2.06-2.06.94z\"/><path d=\"M17.41 7.96l-1.37-1.37c-.4-.4-.92-.59-1.43-.59-.52 0-1.04.2-1.43.59L10.3 9.45l-7.72 7.72c-.78.78-.78 2.05 0 2.83L4 21.41c.39.39.9.59 1.41.59.51 0 1.02-.2 1.41-.59l7.78-7.78 2.81-2.81c.8-.78.8-2.07 0-2.86zM5.41 20L4 18.59l7.72-7.72 1.47 1.35L5.41 20z\"/>\n",
              "  </svg>\n",
              "      </button>\n",
              "      \n",
              "  <style>\n",
              "    .colab-df-container {\n",
              "      display:flex;\n",
              "      flex-wrap:wrap;\n",
              "      gap: 12px;\n",
              "    }\n",
              "\n",
              "    .colab-df-convert {\n",
              "      background-color: #E8F0FE;\n",
              "      border: none;\n",
              "      border-radius: 50%;\n",
              "      cursor: pointer;\n",
              "      display: none;\n",
              "      fill: #1967D2;\n",
              "      height: 32px;\n",
              "      padding: 0 0 0 0;\n",
              "      width: 32px;\n",
              "    }\n",
              "\n",
              "    .colab-df-convert:hover {\n",
              "      background-color: #E2EBFA;\n",
              "      box-shadow: 0px 1px 2px rgba(60, 64, 67, 0.3), 0px 1px 3px 1px rgba(60, 64, 67, 0.15);\n",
              "      fill: #174EA6;\n",
              "    }\n",
              "\n",
              "    [theme=dark] .colab-df-convert {\n",
              "      background-color: #3B4455;\n",
              "      fill: #D2E3FC;\n",
              "    }\n",
              "\n",
              "    [theme=dark] .colab-df-convert:hover {\n",
              "      background-color: #434B5C;\n",
              "      box-shadow: 0px 1px 3px 1px rgba(0, 0, 0, 0.15);\n",
              "      filter: drop-shadow(0px 1px 2px rgba(0, 0, 0, 0.3));\n",
              "      fill: #FFFFFF;\n",
              "    }\n",
              "  </style>\n",
              "\n",
              "      <script>\n",
              "        const buttonEl =\n",
              "          document.querySelector('#df-0c583855-13c4-4a33-8ab6-6a0a72c7514b button.colab-df-convert');\n",
              "        buttonEl.style.display =\n",
              "          google.colab.kernel.accessAllowed ? 'block' : 'none';\n",
              "\n",
              "        async function convertToInteractive(key) {\n",
              "          const element = document.querySelector('#df-0c583855-13c4-4a33-8ab6-6a0a72c7514b');\n",
              "          const dataTable =\n",
              "            await google.colab.kernel.invokeFunction('convertToInteractive',\n",
              "                                                     [key], {});\n",
              "          if (!dataTable) return;\n",
              "\n",
              "          const docLinkHtml = 'Like what you see? Visit the ' +\n",
              "            '<a target=\"_blank\" href=https://colab.research.google.com/notebooks/data_table.ipynb>data table notebook</a>'\n",
              "            + ' to learn more about interactive tables.';\n",
              "          element.innerHTML = '';\n",
              "          dataTable['output_type'] = 'display_data';\n",
              "          await google.colab.output.renderOutput(dataTable, element);\n",
              "          const docLink = document.createElement('div');\n",
              "          docLink.innerHTML = docLinkHtml;\n",
              "          element.appendChild(docLink);\n",
              "        }\n",
              "      </script>\n",
              "    </div>\n",
              "  </div>\n",
              "  "
            ]
          },
          "metadata": {},
          "execution_count": 47
        }
      ]
    },
    {
      "cell_type": "code",
      "source": [
        "brand_info[\"mean_price\"] = mean_prices\n",
        "brand_info"
      ],
      "metadata": {
        "colab": {
          "base_uri": "https://localhost:8080/",
          "height": 238
        },
        "id": "Evpe3MRf4lsL",
        "outputId": "ba3eb9de-54e6-4d9a-dda9-3000d18d79c7"
      },
      "execution_count": 48,
      "outputs": [
        {
          "output_type": "execute_result",
          "data": {
            "text/plain": [
              "               mean_mileage  mean_price\n",
              "bmw                  132800        8449\n",
              "mercedes_benz        130572        8551\n",
              "audi                 129443        9086\n",
              "opel                 128722        2971\n",
              "volkswagen           128386        5400\n",
              "ford                 123662        3696"
            ],
            "text/html": [
              "\n",
              "  <div id=\"df-9ac7423c-9664-429f-89f3-7c4277fc5d05\">\n",
              "    <div class=\"colab-df-container\">\n",
              "      <div>\n",
              "<style scoped>\n",
              "    .dataframe tbody tr th:only-of-type {\n",
              "        vertical-align: middle;\n",
              "    }\n",
              "\n",
              "    .dataframe tbody tr th {\n",
              "        vertical-align: top;\n",
              "    }\n",
              "\n",
              "    .dataframe thead th {\n",
              "        text-align: right;\n",
              "    }\n",
              "</style>\n",
              "<table border=\"1\" class=\"dataframe\">\n",
              "  <thead>\n",
              "    <tr style=\"text-align: right;\">\n",
              "      <th></th>\n",
              "      <th>mean_mileage</th>\n",
              "      <th>mean_price</th>\n",
              "    </tr>\n",
              "  </thead>\n",
              "  <tbody>\n",
              "    <tr>\n",
              "      <th>bmw</th>\n",
              "      <td>132800</td>\n",
              "      <td>8449</td>\n",
              "    </tr>\n",
              "    <tr>\n",
              "      <th>mercedes_benz</th>\n",
              "      <td>130572</td>\n",
              "      <td>8551</td>\n",
              "    </tr>\n",
              "    <tr>\n",
              "      <th>audi</th>\n",
              "      <td>129443</td>\n",
              "      <td>9086</td>\n",
              "    </tr>\n",
              "    <tr>\n",
              "      <th>opel</th>\n",
              "      <td>128722</td>\n",
              "      <td>2971</td>\n",
              "    </tr>\n",
              "    <tr>\n",
              "      <th>volkswagen</th>\n",
              "      <td>128386</td>\n",
              "      <td>5400</td>\n",
              "    </tr>\n",
              "    <tr>\n",
              "      <th>ford</th>\n",
              "      <td>123662</td>\n",
              "      <td>3696</td>\n",
              "    </tr>\n",
              "  </tbody>\n",
              "</table>\n",
              "</div>\n",
              "      <button class=\"colab-df-convert\" onclick=\"convertToInteractive('df-9ac7423c-9664-429f-89f3-7c4277fc5d05')\"\n",
              "              title=\"Convert this dataframe to an interactive table.\"\n",
              "              style=\"display:none;\">\n",
              "        \n",
              "  <svg xmlns=\"http://www.w3.org/2000/svg\" height=\"24px\"viewBox=\"0 0 24 24\"\n",
              "       width=\"24px\">\n",
              "    <path d=\"M0 0h24v24H0V0z\" fill=\"none\"/>\n",
              "    <path d=\"M18.56 5.44l.94 2.06.94-2.06 2.06-.94-2.06-.94-.94-2.06-.94 2.06-2.06.94zm-11 1L8.5 8.5l.94-2.06 2.06-.94-2.06-.94L8.5 2.5l-.94 2.06-2.06.94zm10 10l.94 2.06.94-2.06 2.06-.94-2.06-.94-.94-2.06-.94 2.06-2.06.94z\"/><path d=\"M17.41 7.96l-1.37-1.37c-.4-.4-.92-.59-1.43-.59-.52 0-1.04.2-1.43.59L10.3 9.45l-7.72 7.72c-.78.78-.78 2.05 0 2.83L4 21.41c.39.39.9.59 1.41.59.51 0 1.02-.2 1.41-.59l7.78-7.78 2.81-2.81c.8-.78.8-2.07 0-2.86zM5.41 20L4 18.59l7.72-7.72 1.47 1.35L5.41 20z\"/>\n",
              "  </svg>\n",
              "      </button>\n",
              "      \n",
              "  <style>\n",
              "    .colab-df-container {\n",
              "      display:flex;\n",
              "      flex-wrap:wrap;\n",
              "      gap: 12px;\n",
              "    }\n",
              "\n",
              "    .colab-df-convert {\n",
              "      background-color: #E8F0FE;\n",
              "      border: none;\n",
              "      border-radius: 50%;\n",
              "      cursor: pointer;\n",
              "      display: none;\n",
              "      fill: #1967D2;\n",
              "      height: 32px;\n",
              "      padding: 0 0 0 0;\n",
              "      width: 32px;\n",
              "    }\n",
              "\n",
              "    .colab-df-convert:hover {\n",
              "      background-color: #E2EBFA;\n",
              "      box-shadow: 0px 1px 2px rgba(60, 64, 67, 0.3), 0px 1px 3px 1px rgba(60, 64, 67, 0.15);\n",
              "      fill: #174EA6;\n",
              "    }\n",
              "\n",
              "    [theme=dark] .colab-df-convert {\n",
              "      background-color: #3B4455;\n",
              "      fill: #D2E3FC;\n",
              "    }\n",
              "\n",
              "    [theme=dark] .colab-df-convert:hover {\n",
              "      background-color: #434B5C;\n",
              "      box-shadow: 0px 1px 3px 1px rgba(0, 0, 0, 0.15);\n",
              "      filter: drop-shadow(0px 1px 2px rgba(0, 0, 0, 0.3));\n",
              "      fill: #FFFFFF;\n",
              "    }\n",
              "  </style>\n",
              "\n",
              "      <script>\n",
              "        const buttonEl =\n",
              "          document.querySelector('#df-9ac7423c-9664-429f-89f3-7c4277fc5d05 button.colab-df-convert');\n",
              "        buttonEl.style.display =\n",
              "          google.colab.kernel.accessAllowed ? 'block' : 'none';\n",
              "\n",
              "        async function convertToInteractive(key) {\n",
              "          const element = document.querySelector('#df-9ac7423c-9664-429f-89f3-7c4277fc5d05');\n",
              "          const dataTable =\n",
              "            await google.colab.kernel.invokeFunction('convertToInteractive',\n",
              "                                                     [key], {});\n",
              "          if (!dataTable) return;\n",
              "\n",
              "          const docLinkHtml = 'Like what you see? Visit the ' +\n",
              "            '<a target=\"_blank\" href=https://colab.research.google.com/notebooks/data_table.ipynb>data table notebook</a>'\n",
              "            + ' to learn more about interactive tables.';\n",
              "          element.innerHTML = '';\n",
              "          dataTable['output_type'] = 'display_data';\n",
              "          await google.colab.output.renderOutput(dataTable, element);\n",
              "          const docLink = document.createElement('div');\n",
              "          docLink.innerHTML = docLinkHtml;\n",
              "          element.appendChild(docLink);\n",
              "        }\n",
              "      </script>\n",
              "    </div>\n",
              "  </div>\n",
              "  "
            ]
          },
          "metadata": {},
          "execution_count": 48
        }
      ]
    },
    {
      "cell_type": "markdown",
      "source": [
        "A gama de quilometragem dos carros não varia tanto quanto os preços por marca, em vez disso, todos caem dentro de 10% para as marcas principais. Existe uma ligeira tendência para os veículos mais caros terem maior quilometragem, com os veículos mais baratos a terem uma quilometragem mais baixa."
      ],
      "metadata": {
        "id": "ZVSNBLEa4rFB"
      }
    }
  ]
}