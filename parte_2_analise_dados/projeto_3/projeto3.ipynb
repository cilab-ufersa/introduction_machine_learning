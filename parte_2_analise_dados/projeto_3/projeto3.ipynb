{
  "nbformat": 4,
  "nbformat_minor": 0,
  "metadata": {
    "colab": {
      "provenance": []
    },
    "kernelspec": {
      "name": "python3",
      "display_name": "Python 3"
    },
    "language_info": {
      "name": "python"
    }
  },
  "cells": [
    {
      "cell_type": "markdown",
      "source": [
        "# Indicadores de tráfego intenso na I-94\n",
        "Neste projeto, vamos analisar um conjunto de dados sobre o tráfego no sentido oeste na rodovia [interestadual I-94 nos EUA](https://en.wikipedia.org/wiki/Interstate_94).\n",
        "\n",
        "O objetivo de nossa análise é determinar alguns indicadores de tráfego intenso na I-94. Esses indicadores podem ser tipo de clima, hora do dia, hora da semana, etc."
      ],
      "metadata": {
        "id": "_elTedn_kW0W"
      }
    },
    {
      "cell_type": "markdown",
      "source": [
        "## O conjunto de dados de tráfego I-94\n",
        "John Hogue disponibilizou o conjunto de dados com o qual trabalharemos e você pode baixá-lo no [repositório de aprendizado de máquina da UCI](https://archive.ics.uci.edu/ml/datasets/Metro+Interstate+Traffic+Volume)."
      ],
      "metadata": {
        "id": "AgLb5RXOkpC_"
      }
    },
    {
      "cell_type": "code",
      "execution_count": 2,
      "metadata": {
        "colab": {
          "base_uri": "https://localhost:8080/",
          "height": 337
        },
        "id": "TLjOWMwriuzq",
        "outputId": "0abc90a9-9377-4ffe-f9d8-2dbca8d0cdd7"
      },
      "outputs": [
        {
          "output_type": "execute_result",
          "data": {
            "text/plain": [
              "  holiday    temp  rain_1h  snow_1h  clouds_all weather_main  \\\n",
              "0    None  288.28      0.0      0.0          40       Clouds   \n",
              "1    None  289.36      0.0      0.0          75       Clouds   \n",
              "2    None  289.58      0.0      0.0          90       Clouds   \n",
              "3    None  290.13      0.0      0.0          90       Clouds   \n",
              "4    None  291.14      0.0      0.0          75       Clouds   \n",
              "\n",
              "  weather_description            date_time  traffic_volume  \n",
              "0    scattered clouds  2012-10-02 09:00:00            5545  \n",
              "1       broken clouds  2012-10-02 10:00:00            4516  \n",
              "2     overcast clouds  2012-10-02 11:00:00            4767  \n",
              "3     overcast clouds  2012-10-02 12:00:00            5026  \n",
              "4       broken clouds  2012-10-02 13:00:00            4918  "
            ],
            "text/html": [
              "\n",
              "  <div id=\"df-cb11c5f5-5d73-4098-8aab-ffb5e56729db\">\n",
              "    <div class=\"colab-df-container\">\n",
              "      <div>\n",
              "<style scoped>\n",
              "    .dataframe tbody tr th:only-of-type {\n",
              "        vertical-align: middle;\n",
              "    }\n",
              "\n",
              "    .dataframe tbody tr th {\n",
              "        vertical-align: top;\n",
              "    }\n",
              "\n",
              "    .dataframe thead th {\n",
              "        text-align: right;\n",
              "    }\n",
              "</style>\n",
              "<table border=\"1\" class=\"dataframe\">\n",
              "  <thead>\n",
              "    <tr style=\"text-align: right;\">\n",
              "      <th></th>\n",
              "      <th>holiday</th>\n",
              "      <th>temp</th>\n",
              "      <th>rain_1h</th>\n",
              "      <th>snow_1h</th>\n",
              "      <th>clouds_all</th>\n",
              "      <th>weather_main</th>\n",
              "      <th>weather_description</th>\n",
              "      <th>date_time</th>\n",
              "      <th>traffic_volume</th>\n",
              "    </tr>\n",
              "  </thead>\n",
              "  <tbody>\n",
              "    <tr>\n",
              "      <th>0</th>\n",
              "      <td>None</td>\n",
              "      <td>288.28</td>\n",
              "      <td>0.0</td>\n",
              "      <td>0.0</td>\n",
              "      <td>40</td>\n",
              "      <td>Clouds</td>\n",
              "      <td>scattered clouds</td>\n",
              "      <td>2012-10-02 09:00:00</td>\n",
              "      <td>5545</td>\n",
              "    </tr>\n",
              "    <tr>\n",
              "      <th>1</th>\n",
              "      <td>None</td>\n",
              "      <td>289.36</td>\n",
              "      <td>0.0</td>\n",
              "      <td>0.0</td>\n",
              "      <td>75</td>\n",
              "      <td>Clouds</td>\n",
              "      <td>broken clouds</td>\n",
              "      <td>2012-10-02 10:00:00</td>\n",
              "      <td>4516</td>\n",
              "    </tr>\n",
              "    <tr>\n",
              "      <th>2</th>\n",
              "      <td>None</td>\n",
              "      <td>289.58</td>\n",
              "      <td>0.0</td>\n",
              "      <td>0.0</td>\n",
              "      <td>90</td>\n",
              "      <td>Clouds</td>\n",
              "      <td>overcast clouds</td>\n",
              "      <td>2012-10-02 11:00:00</td>\n",
              "      <td>4767</td>\n",
              "    </tr>\n",
              "    <tr>\n",
              "      <th>3</th>\n",
              "      <td>None</td>\n",
              "      <td>290.13</td>\n",
              "      <td>0.0</td>\n",
              "      <td>0.0</td>\n",
              "      <td>90</td>\n",
              "      <td>Clouds</td>\n",
              "      <td>overcast clouds</td>\n",
              "      <td>2012-10-02 12:00:00</td>\n",
              "      <td>5026</td>\n",
              "    </tr>\n",
              "    <tr>\n",
              "      <th>4</th>\n",
              "      <td>None</td>\n",
              "      <td>291.14</td>\n",
              "      <td>0.0</td>\n",
              "      <td>0.0</td>\n",
              "      <td>75</td>\n",
              "      <td>Clouds</td>\n",
              "      <td>broken clouds</td>\n",
              "      <td>2012-10-02 13:00:00</td>\n",
              "      <td>4918</td>\n",
              "    </tr>\n",
              "  </tbody>\n",
              "</table>\n",
              "</div>\n",
              "      <button class=\"colab-df-convert\" onclick=\"convertToInteractive('df-cb11c5f5-5d73-4098-8aab-ffb5e56729db')\"\n",
              "              title=\"Convert this dataframe to an interactive table.\"\n",
              "              style=\"display:none;\">\n",
              "        \n",
              "  <svg xmlns=\"http://www.w3.org/2000/svg\" height=\"24px\"viewBox=\"0 0 24 24\"\n",
              "       width=\"24px\">\n",
              "    <path d=\"M0 0h24v24H0V0z\" fill=\"none\"/>\n",
              "    <path d=\"M18.56 5.44l.94 2.06.94-2.06 2.06-.94-2.06-.94-.94-2.06-.94 2.06-2.06.94zm-11 1L8.5 8.5l.94-2.06 2.06-.94-2.06-.94L8.5 2.5l-.94 2.06-2.06.94zm10 10l.94 2.06.94-2.06 2.06-.94-2.06-.94-.94-2.06-.94 2.06-2.06.94z\"/><path d=\"M17.41 7.96l-1.37-1.37c-.4-.4-.92-.59-1.43-.59-.52 0-1.04.2-1.43.59L10.3 9.45l-7.72 7.72c-.78.78-.78 2.05 0 2.83L4 21.41c.39.39.9.59 1.41.59.51 0 1.02-.2 1.41-.59l7.78-7.78 2.81-2.81c.8-.78.8-2.07 0-2.86zM5.41 20L4 18.59l7.72-7.72 1.47 1.35L5.41 20z\"/>\n",
              "  </svg>\n",
              "      </button>\n",
              "      \n",
              "  <style>\n",
              "    .colab-df-container {\n",
              "      display:flex;\n",
              "      flex-wrap:wrap;\n",
              "      gap: 12px;\n",
              "    }\n",
              "\n",
              "    .colab-df-convert {\n",
              "      background-color: #E8F0FE;\n",
              "      border: none;\n",
              "      border-radius: 50%;\n",
              "      cursor: pointer;\n",
              "      display: none;\n",
              "      fill: #1967D2;\n",
              "      height: 32px;\n",
              "      padding: 0 0 0 0;\n",
              "      width: 32px;\n",
              "    }\n",
              "\n",
              "    .colab-df-convert:hover {\n",
              "      background-color: #E2EBFA;\n",
              "      box-shadow: 0px 1px 2px rgba(60, 64, 67, 0.3), 0px 1px 3px 1px rgba(60, 64, 67, 0.15);\n",
              "      fill: #174EA6;\n",
              "    }\n",
              "\n",
              "    [theme=dark] .colab-df-convert {\n",
              "      background-color: #3B4455;\n",
              "      fill: #D2E3FC;\n",
              "    }\n",
              "\n",
              "    [theme=dark] .colab-df-convert:hover {\n",
              "      background-color: #434B5C;\n",
              "      box-shadow: 0px 1px 3px 1px rgba(0, 0, 0, 0.15);\n",
              "      filter: drop-shadow(0px 1px 2px rgba(0, 0, 0, 0.3));\n",
              "      fill: #FFFFFF;\n",
              "    }\n",
              "  </style>\n",
              "\n",
              "      <script>\n",
              "        const buttonEl =\n",
              "          document.querySelector('#df-cb11c5f5-5d73-4098-8aab-ffb5e56729db button.colab-df-convert');\n",
              "        buttonEl.style.display =\n",
              "          google.colab.kernel.accessAllowed ? 'block' : 'none';\n",
              "\n",
              "        async function convertToInteractive(key) {\n",
              "          const element = document.querySelector('#df-cb11c5f5-5d73-4098-8aab-ffb5e56729db');\n",
              "          const dataTable =\n",
              "            await google.colab.kernel.invokeFunction('convertToInteractive',\n",
              "                                                     [key], {});\n",
              "          if (!dataTable) return;\n",
              "\n",
              "          const docLinkHtml = 'Like what you see? Visit the ' +\n",
              "            '<a target=\"_blank\" href=https://colab.research.google.com/notebooks/data_table.ipynb>data table notebook</a>'\n",
              "            + ' to learn more about interactive tables.';\n",
              "          element.innerHTML = '';\n",
              "          dataTable['output_type'] = 'display_data';\n",
              "          await google.colab.output.renderOutput(dataTable, element);\n",
              "          const docLink = document.createElement('div');\n",
              "          docLink.innerHTML = docLinkHtml;\n",
              "          element.appendChild(docLink);\n",
              "        }\n",
              "      </script>\n",
              "    </div>\n",
              "  </div>\n",
              "  "
            ]
          },
          "metadata": {},
          "execution_count": 2
        }
      ],
      "source": [
        "import pandas as pd\n",
        "\n",
        "i_94 = pd.read_csv('Metro_Interstate_Traffic_Volume.csv')\n",
        "i_94.head()"
      ]
    },
    {
      "cell_type": "code",
      "source": [
        "i_94.tail()"
      ],
      "metadata": {
        "colab": {
          "base_uri": "https://localhost:8080/",
          "height": 444
        },
        "id": "qItAqXOulb3r",
        "outputId": "d0a0787e-d789-404d-ea4e-71983ee644e2"
      },
      "execution_count": 3,
      "outputs": [
        {
          "output_type": "execute_result",
          "data": {
            "text/plain": [
              "      holiday    temp  rain_1h  snow_1h  clouds_all  weather_main  \\\n",
              "48199    None  283.45      0.0      0.0          75        Clouds   \n",
              "48200    None  282.76      0.0      0.0          90        Clouds   \n",
              "48201    None  282.73      0.0      0.0          90  Thunderstorm   \n",
              "48202    None  282.09      0.0      0.0          90        Clouds   \n",
              "48203    None  282.12      0.0      0.0          90        Clouds   \n",
              "\n",
              "          weather_description            date_time  traffic_volume  \n",
              "48199           broken clouds  2018-09-30 19:00:00            3543  \n",
              "48200         overcast clouds  2018-09-30 20:00:00            2781  \n",
              "48201  proximity thunderstorm  2018-09-30 21:00:00            2159  \n",
              "48202         overcast clouds  2018-09-30 22:00:00            1450  \n",
              "48203         overcast clouds  2018-09-30 23:00:00             954  "
            ],
            "text/html": [
              "\n",
              "  <div id=\"df-50f2dbd9-e753-439a-9543-d36a38b06137\">\n",
              "    <div class=\"colab-df-container\">\n",
              "      <div>\n",
              "<style scoped>\n",
              "    .dataframe tbody tr th:only-of-type {\n",
              "        vertical-align: middle;\n",
              "    }\n",
              "\n",
              "    .dataframe tbody tr th {\n",
              "        vertical-align: top;\n",
              "    }\n",
              "\n",
              "    .dataframe thead th {\n",
              "        text-align: right;\n",
              "    }\n",
              "</style>\n",
              "<table border=\"1\" class=\"dataframe\">\n",
              "  <thead>\n",
              "    <tr style=\"text-align: right;\">\n",
              "      <th></th>\n",
              "      <th>holiday</th>\n",
              "      <th>temp</th>\n",
              "      <th>rain_1h</th>\n",
              "      <th>snow_1h</th>\n",
              "      <th>clouds_all</th>\n",
              "      <th>weather_main</th>\n",
              "      <th>weather_description</th>\n",
              "      <th>date_time</th>\n",
              "      <th>traffic_volume</th>\n",
              "    </tr>\n",
              "  </thead>\n",
              "  <tbody>\n",
              "    <tr>\n",
              "      <th>48199</th>\n",
              "      <td>None</td>\n",
              "      <td>283.45</td>\n",
              "      <td>0.0</td>\n",
              "      <td>0.0</td>\n",
              "      <td>75</td>\n",
              "      <td>Clouds</td>\n",
              "      <td>broken clouds</td>\n",
              "      <td>2018-09-30 19:00:00</td>\n",
              "      <td>3543</td>\n",
              "    </tr>\n",
              "    <tr>\n",
              "      <th>48200</th>\n",
              "      <td>None</td>\n",
              "      <td>282.76</td>\n",
              "      <td>0.0</td>\n",
              "      <td>0.0</td>\n",
              "      <td>90</td>\n",
              "      <td>Clouds</td>\n",
              "      <td>overcast clouds</td>\n",
              "      <td>2018-09-30 20:00:00</td>\n",
              "      <td>2781</td>\n",
              "    </tr>\n",
              "    <tr>\n",
              "      <th>48201</th>\n",
              "      <td>None</td>\n",
              "      <td>282.73</td>\n",
              "      <td>0.0</td>\n",
              "      <td>0.0</td>\n",
              "      <td>90</td>\n",
              "      <td>Thunderstorm</td>\n",
              "      <td>proximity thunderstorm</td>\n",
              "      <td>2018-09-30 21:00:00</td>\n",
              "      <td>2159</td>\n",
              "    </tr>\n",
              "    <tr>\n",
              "      <th>48202</th>\n",
              "      <td>None</td>\n",
              "      <td>282.09</td>\n",
              "      <td>0.0</td>\n",
              "      <td>0.0</td>\n",
              "      <td>90</td>\n",
              "      <td>Clouds</td>\n",
              "      <td>overcast clouds</td>\n",
              "      <td>2018-09-30 22:00:00</td>\n",
              "      <td>1450</td>\n",
              "    </tr>\n",
              "    <tr>\n",
              "      <th>48203</th>\n",
              "      <td>None</td>\n",
              "      <td>282.12</td>\n",
              "      <td>0.0</td>\n",
              "      <td>0.0</td>\n",
              "      <td>90</td>\n",
              "      <td>Clouds</td>\n",
              "      <td>overcast clouds</td>\n",
              "      <td>2018-09-30 23:00:00</td>\n",
              "      <td>954</td>\n",
              "    </tr>\n",
              "  </tbody>\n",
              "</table>\n",
              "</div>\n",
              "      <button class=\"colab-df-convert\" onclick=\"convertToInteractive('df-50f2dbd9-e753-439a-9543-d36a38b06137')\"\n",
              "              title=\"Convert this dataframe to an interactive table.\"\n",
              "              style=\"display:none;\">\n",
              "        \n",
              "  <svg xmlns=\"http://www.w3.org/2000/svg\" height=\"24px\"viewBox=\"0 0 24 24\"\n",
              "       width=\"24px\">\n",
              "    <path d=\"M0 0h24v24H0V0z\" fill=\"none\"/>\n",
              "    <path d=\"M18.56 5.44l.94 2.06.94-2.06 2.06-.94-2.06-.94-.94-2.06-.94 2.06-2.06.94zm-11 1L8.5 8.5l.94-2.06 2.06-.94-2.06-.94L8.5 2.5l-.94 2.06-2.06.94zm10 10l.94 2.06.94-2.06 2.06-.94-2.06-.94-.94-2.06-.94 2.06-2.06.94z\"/><path d=\"M17.41 7.96l-1.37-1.37c-.4-.4-.92-.59-1.43-.59-.52 0-1.04.2-1.43.59L10.3 9.45l-7.72 7.72c-.78.78-.78 2.05 0 2.83L4 21.41c.39.39.9.59 1.41.59.51 0 1.02-.2 1.41-.59l7.78-7.78 2.81-2.81c.8-.78.8-2.07 0-2.86zM5.41 20L4 18.59l7.72-7.72 1.47 1.35L5.41 20z\"/>\n",
              "  </svg>\n",
              "      </button>\n",
              "      \n",
              "  <style>\n",
              "    .colab-df-container {\n",
              "      display:flex;\n",
              "      flex-wrap:wrap;\n",
              "      gap: 12px;\n",
              "    }\n",
              "\n",
              "    .colab-df-convert {\n",
              "      background-color: #E8F0FE;\n",
              "      border: none;\n",
              "      border-radius: 50%;\n",
              "      cursor: pointer;\n",
              "      display: none;\n",
              "      fill: #1967D2;\n",
              "      height: 32px;\n",
              "      padding: 0 0 0 0;\n",
              "      width: 32px;\n",
              "    }\n",
              "\n",
              "    .colab-df-convert:hover {\n",
              "      background-color: #E2EBFA;\n",
              "      box-shadow: 0px 1px 2px rgba(60, 64, 67, 0.3), 0px 1px 3px 1px rgba(60, 64, 67, 0.15);\n",
              "      fill: #174EA6;\n",
              "    }\n",
              "\n",
              "    [theme=dark] .colab-df-convert {\n",
              "      background-color: #3B4455;\n",
              "      fill: #D2E3FC;\n",
              "    }\n",
              "\n",
              "    [theme=dark] .colab-df-convert:hover {\n",
              "      background-color: #434B5C;\n",
              "      box-shadow: 0px 1px 3px 1px rgba(0, 0, 0, 0.15);\n",
              "      filter: drop-shadow(0px 1px 2px rgba(0, 0, 0, 0.3));\n",
              "      fill: #FFFFFF;\n",
              "    }\n",
              "  </style>\n",
              "\n",
              "      <script>\n",
              "        const buttonEl =\n",
              "          document.querySelector('#df-50f2dbd9-e753-439a-9543-d36a38b06137 button.colab-df-convert');\n",
              "        buttonEl.style.display =\n",
              "          google.colab.kernel.accessAllowed ? 'block' : 'none';\n",
              "\n",
              "        async function convertToInteractive(key) {\n",
              "          const element = document.querySelector('#df-50f2dbd9-e753-439a-9543-d36a38b06137');\n",
              "          const dataTable =\n",
              "            await google.colab.kernel.invokeFunction('convertToInteractive',\n",
              "                                                     [key], {});\n",
              "          if (!dataTable) return;\n",
              "\n",
              "          const docLinkHtml = 'Like what you see? Visit the ' +\n",
              "            '<a target=\"_blank\" href=https://colab.research.google.com/notebooks/data_table.ipynb>data table notebook</a>'\n",
              "            + ' to learn more about interactive tables.';\n",
              "          element.innerHTML = '';\n",
              "          dataTable['output_type'] = 'display_data';\n",
              "          await google.colab.output.renderOutput(dataTable, element);\n",
              "          const docLink = document.createElement('div');\n",
              "          docLink.innerHTML = docLinkHtml;\n",
              "          element.appendChild(docLink);\n",
              "        }\n",
              "      </script>\n",
              "    </div>\n",
              "  </div>\n",
              "  "
            ]
          },
          "metadata": {},
          "execution_count": 3
        }
      ]
    },
    {
      "cell_type": "code",
      "source": [
        "i_94.info()"
      ],
      "metadata": {
        "colab": {
          "base_uri": "https://localhost:8080/"
        },
        "id": "TGJdiS7hlcWe",
        "outputId": "c0c0102f-9dfa-4383-96fa-b4e7fe864d17"
      },
      "execution_count": 4,
      "outputs": [
        {
          "output_type": "stream",
          "name": "stdout",
          "text": [
            "<class 'pandas.core.frame.DataFrame'>\n",
            "RangeIndex: 48204 entries, 0 to 48203\n",
            "Data columns (total 9 columns):\n",
            " #   Column               Non-Null Count  Dtype  \n",
            "---  ------               --------------  -----  \n",
            " 0   holiday              48204 non-null  object \n",
            " 1   temp                 48204 non-null  float64\n",
            " 2   rain_1h              48204 non-null  float64\n",
            " 3   snow_1h              48204 non-null  float64\n",
            " 4   clouds_all           48204 non-null  int64  \n",
            " 5   weather_main         48204 non-null  object \n",
            " 6   weather_description  48204 non-null  object \n",
            " 7   date_time            48204 non-null  object \n",
            " 8   traffic_volume       48204 non-null  int64  \n",
            "dtypes: float64(3), int64(2), object(4)\n",
            "memory usage: 3.3+ MB\n"
          ]
        }
      ]
    },
    {
      "cell_type": "markdown",
      "source": [
        "O conjunto de dados tem 48.204 linhas e 9 colunas e não há valores nulos. Cada linha descreve dados de trânsito e meteorológicos para uma hora específica — temos dados de 2012-10-02 09:00:00 até 2018-09-30 23:00:00.\n",
        "\n",
        "Uma estação localizada aproximadamente a meio caminho entre Minneapolis e Saint Paul registra os dados de tráfego (consulte a documentação do conjunto de dados). Para esta estação, a direção da rota é oeste (ou seja, carros se movendo de leste para oeste). Isso significa que os resultados de nossa análise serão sobre o tráfego no sentido oeste nas proximidades da estação. Em outras palavras, devemos evitar generalizar nossos resultados para toda a rodovia I-94."
      ],
      "metadata": {
        "id": "-V_KMIGBliA7"
      }
    },
    {
      "cell_type": "markdown",
      "source": [
        "## Analisando o volume de tráfego\n",
        "Vamos começar nossa análise examinando a distribuição da coluna traffic_volume."
      ],
      "metadata": {
        "id": "kQfIPnXwlqQ2"
      }
    },
    {
      "cell_type": "code",
      "source": [
        "import matplotlib.pyplot as plt\n",
        "i_94['traffic_volume'].plot.hist()\n",
        "plt.show()"
      ],
      "metadata": {
        "colab": {
          "base_uri": "https://localhost:8080/",
          "height": 265
        },
        "id": "X6wAOc-9lfPg",
        "outputId": "0529831d-b9ed-4978-d53a-70970411dc1c"
      },
      "execution_count": 6,
      "outputs": [
        {
          "output_type": "display_data",
          "data": {
            "text/plain": [
              "<Figure size 432x288 with 1 Axes>"
            ],
            "image/png": "[encoded data removed]"
          },
          "metadata": {
            "needs_background": "light"
          }
        }
      ]
    },
    {
      "cell_type": "code",
      "source": [
        "i_94['traffic_volume'].describe()"
      ],
      "metadata": {
        "colab": {
          "base_uri": "https://localhost:8080/"
        },
        "id": "_SYC-qzCluFH",
        "outputId": "3b9a88bf-4fd3-4f40-e6dc-cc395988e4f3"
      },
      "execution_count": 7,
      "outputs": [
        {
          "output_type": "execute_result",
          "data": {
            "text/plain": [
              "count    48204.000000\n",
              "mean      3259.818355\n",
              "std       1986.860670\n",
              "min          0.000000\n",
              "25%       1193.000000\n",
              "50%       3380.000000\n",
              "75%       4933.000000\n",
              "max       7280.000000\n",
              "Name: traffic_volume, dtype: float64"
            ]
          },
          "metadata": {},
          "execution_count": 7
        }
      ]
    },
    {
      "cell_type": "markdown",
      "source": [
        "Entre 2012-10-02 09:00:00 e 2018-09-30 23:00:00, o volume de tráfego horário variou de 0 a 7.280 carros, com média de 3.260 carros.\n",
        "\n",
        "Cerca de 25% das vezes, havia apenas 1.193 carros ou menos passando pela estação a cada hora – isso provavelmente ocorre durante a noite ou quando uma estrada está em construção. No entanto, cerca de 25% das vezes, o volume de tráfego foi quatro vezes maior (4.933 carros ou mais).\n",
        "\n",
        "Essa observação dá à nossa análise uma direção interessante: comparar dados diurnos com dados noturnos."
      ],
      "metadata": {
        "id": "TFpu8zTrmCwn"
      }
    },
    {
      "cell_type": "markdown",
      "source": [
        "## Volume de tráfego: dia x noite\n",
        "Começaremos dividindo o conjunto de dados em duas partes:\n",
        "\n",
        "- Dados diurnos: horas das 7h às 19h (12 horas)\n",
        "- Dados noturnos: horas das 19h às 7h (12 horas)\n",
        "\n",
        "Embora este não seja um critério perfeito para distinguir entre o período noturno e o diurno, é um bom ponto de partida."
      ],
      "metadata": {
        "id": "N_DM97CymQf8"
      }
    },
    {
      "cell_type": "code",
      "source": [
        "i_94['date_time'] = pd.to_datetime(i_94['date_time'])\n",
        "\n",
        "day = i_94.copy()[(i_94['date_time'].dt.hour >= 7) & (i_94['date_time'].dt.hour < 19)]\n",
        "print(day.shape)\n",
        "\n",
        "night = i_94.copy()[(i_94['date_time'].dt.hour >= 19) | (i_94['date_time'].dt.hour < 7)]\n",
        "print(night.shape)"
      ],
      "metadata": {
        "colab": {
          "base_uri": "https://localhost:8080/"
        },
        "id": "_j2Eehnaly5i",
        "outputId": "fe99569f-2f92-4994-841a-aa872324614d"
      },
      "execution_count": 8,
      "outputs": [
        {
          "output_type": "stream",
          "name": "stdout",
          "text": [
            "(23877, 9)\n",
            "(24327, 9)\n"
          ]
        }
      ]
    },
    {
      "cell_type": "markdown",
      "source": [
        "Essa diferença significativa nos números de linhas entre o dia e a noite se deve a algumas horas de dados ausentes.\n",
        "\n",
        "Por exemplo, se você observar as linhas 176 e 177 (`i_94.iloc[176:178]`), notará que não há dados por duas horas (4 e 5)."
      ],
      "metadata": {
        "id": "57FuGSzKmcb1"
      }
    },
    {
      "cell_type": "markdown",
      "source": [
        "## Volume de tráfego: dia x noite (II)\n",
        "Agora que isolamos o dia e a noite, veremos os histogramas do volume de tráfego lado a lado usando um gráfico de grade."
      ],
      "metadata": {
        "id": "AtyMvNqDmp-3"
      }
    },
    {
      "cell_type": "code",
      "source": [
        "plt.figure(figsize=(11,3.5))\n",
        "\n",
        "plt.subplot(1, 2, 1)\n",
        "plt.hist(day['traffic_volume'])\n",
        "plt.xlim(-100, 7500)\n",
        "plt.ylim(0, 8000)\n",
        "plt.title('Traffic Volume: Day')\n",
        "plt.ylabel('Frequency')\n",
        "plt.xlabel('Traffic Volume')\n",
        "\n",
        "plt.subplot(1, 2, 2)\n",
        "plt.hist(night['traffic_volume'])\n",
        "plt.xlim(-100, 7500)\n",
        "plt.ylim(0, 8000)\n",
        "plt.title('Traffic Volume: Night')\n",
        "plt.ylabel('Frequency')\n",
        "plt.xlabel('Traffic Volume')\n",
        "\n",
        "plt.show()"
      ],
      "metadata": {
        "colab": {
          "base_uri": "https://localhost:8080/",
          "height": 268
        },
        "id": "R0kub6gqmW0O",
        "outputId": "097bb551-2ff6-4899-efe7-2fce68fe4ac6"
      },
      "execution_count": 9,
      "outputs": [
        {
          "output_type": "display_data",
          "data": {
            "text/plain": [
              "<Figure size 792x252 with 2 Axes>"
            ],
            "image/png": "[encoded data removed]"
          },
          "metadata": {
            "needs_background": "light"
          }
        }
      ]
    },
    {
      "cell_type": "code",
      "source": [
        "day['traffic_volume'].describe()"
      ],
      "metadata": {
        "colab": {
          "base_uri": "https://localhost:8080/"
        },
        "id": "upmI9MIEmtx4",
        "outputId": "ed2cb191-7dca-47f9-ff62-03574dafe987"
      },
      "execution_count": 10,
      "outputs": [
        {
          "output_type": "execute_result",
          "data": {
            "text/plain": [
              "count    23877.000000\n",
              "mean      4762.047452\n",
              "std       1174.546482\n",
              "min          0.000000\n",
              "25%       4252.000000\n",
              "50%       4820.000000\n",
              "75%       5559.000000\n",
              "max       7280.000000\n",
              "Name: traffic_volume, dtype: float64"
            ]
          },
          "metadata": {},
          "execution_count": 10
        }
      ]
    },
    {
      "cell_type": "code",
      "source": [
        "night['traffic_volume'].describe()"
      ],
      "metadata": {
        "colab": {
          "base_uri": "https://localhost:8080/"
        },
        "id": "2vWNGLL7mvQ_",
        "outputId": "fde1e353-820b-4048-9e7e-90e1d139d29a"
      },
      "execution_count": 11,
      "outputs": [
        {
          "output_type": "execute_result",
          "data": {
            "text/plain": [
              "count    24327.000000\n",
              "mean      1785.377441\n",
              "std       1441.951197\n",
              "min          0.000000\n",
              "25%        530.000000\n",
              "50%       1287.000000\n",
              "75%       2819.000000\n",
              "max       6386.000000\n",
              "Name: traffic_volume, dtype: float64"
            ]
          },
          "metadata": {},
          "execution_count": 11
        }
      ]
    },
    {
      "cell_type": "markdown",
      "source": [
        "O histograma que mostra a distribuição do volume de tráfego durante o dia fica distorcido. Isso significa que a maioria dos valores de volume de tráfego são altos – há 4.252 ou mais carros passando pela estação a cada hora 75% do tempo (porque 25% dos valores são inferiores a 4.252).\n",
        "\n",
        "O histograma que exibe os dados noturnos está inclinado à direita. Isso significa que a maioria dos valores de volume de tráfego são baixos – em 75% das vezes, o número de carros que passavam pela estação a cada hora era inferior a 2.819.\n",
        "\n",
        "Embora ainda existam medições de mais de 5.000 carros por hora, o tráfego à noite é geralmente leve. Nosso objetivo é encontrar indicadores de tráfego intenso, então vamos nos concentrar apenas nos dados diurnos daqui para frente."
      ],
      "metadata": {
        "id": "nKWXEPwrm7p_"
      }
    },
    {
      "cell_type": "markdown",
      "source": [
        "## Indicadores de tempo\n",
        "Um dos possíveis indicadores de tráfego intenso é o tempo. Pode haver mais pessoas na estrada em um determinado mês, em um determinado dia ou em uma determinada hora do dia.\n",
        "\n",
        "Vamos ver alguns gráficos de linhas que mostram como o volume de tráfego muda de acordo com o seguinte:\n",
        "\n",
        "- Mês\n",
        "- Dia da semana\n",
        "- Hora do dia"
      ],
      "metadata": {
        "id": "FdL6WECinxA2"
      }
    },
    {
      "cell_type": "code",
      "source": [
        "day['month'] = day['date_time'].dt.month\n",
        "by_month = day.groupby('month').mean()\n",
        "by_month['traffic_volume'].plot.line()\n",
        "plt.show()"
      ],
      "metadata": {
        "colab": {
          "base_uri": "https://localhost:8080/",
          "height": 279
        },
        "id": "9LUddz8MmwWI",
        "outputId": "b1788616-2da9-4ece-cdb9-a4a7135873c2"
      },
      "execution_count": 12,
      "outputs": [
        {
          "output_type": "display_data",
          "data": {
            "text/plain": [
              "<Figure size 432x288 with 1 Axes>"
            ],
            "image/png": "[encoded data removed]"
          },
          "metadata": {
            "needs_background": "light"
          }
        }
      ]
    },
    {
      "cell_type": "markdown",
      "source": [
        "O tráfego parece menos intenso durante os meses frios (novembro a fevereiro) e mais intenso durante os meses quentes (março a outubro), com uma exceção interessante: julho. Há algo especial em julho? O tráfego é significativamente menos intenso em julho de cada ano?\n",
        "\n",
        "Para responder à última pergunta, vamos ver como o volume de tráfego mudou a cada ano em julho."
      ],
      "metadata": {
        "id": "c3a8ghewsLRs"
      }
    },
    {
      "cell_type": "code",
      "source": [
        "day['year'] = day['date_time'].dt.year\n",
        "only_july = day[day['month'] == 7]\n",
        "only_july.groupby('year').mean()['traffic_volume'].plot.line()\n",
        "plt.show()"
      ],
      "metadata": {
        "colab": {
          "base_uri": "https://localhost:8080/",
          "height": 279
        },
        "id": "ZakO7wKYn3Th",
        "outputId": "65785579-8e35-4e18-f9ce-fbf547d0a642"
      },
      "execution_count": 13,
      "outputs": [
        {
          "output_type": "display_data",
          "data": {
            "text/plain": [
              "<Figure size 432x288 with 1 Axes>"
            ],
            "image/png": "[encoded data removed]"
          },
          "metadata": {
            "needs_background": "light"
          }
        }
      ]
    },
    {
      "cell_type": "markdown",
      "source": [
        "Normalmente, o tráfego é bastante intenso em julho, semelhante aos outros meses quentes. A única exceção que vemos é 2016, que teve uma grande queda no volume de tráfego. Uma possível razão para isso é a construção de estradas – este artigo de 2016 apóia essa hipótese.\n",
        "\n",
        "Como conclusão provisória, podemos dizer que os meses quentes geralmente apresentam tráfego mais pesado em comparação com os meses frios. Em um mês quente, você pode esperar para cada hora do dia um volume de tráfego próximo a 5.000 carros."
      ],
      "metadata": {
        "id": "5qNeRmRvskSy"
      }
    },
    {
      "cell_type": "markdown",
      "source": [
        "## Indicadores de tempo (II)\n",
        "Vejamos agora um indicador mais granular: número do dia."
      ],
      "metadata": {
        "id": "lPBzjbpNsurc"
      }
    },
    {
      "cell_type": "code",
      "source": [
        "day['dayofweek'] = day['date_time'].dt.dayofweek\n",
        "by_dayofweek = day.groupby('dayofweek').mean()\n",
        "by_dayofweek['traffic_volume'].plot.line()\n",
        "plt.show()"
      ],
      "metadata": {
        "colab": {
          "base_uri": "https://localhost:8080/",
          "height": 279
        },
        "id": "i7KQj4j2sRoX",
        "outputId": "e56a1a57-4097-471a-95c1-4a8efa75c109"
      },
      "execution_count": 14,
      "outputs": [
        {
          "output_type": "display_data",
          "data": {
            "text/plain": [
              "<Figure size 432x288 with 1 Axes>"
            ],
            "image/png": "[encoded data removed]"
          },
          "metadata": {
            "needs_background": "light"
          }
        }
      ]
    },
    {
      "cell_type": "markdown",
      "source": [
        "O volume de tráfego é significativamente maior em dias úteis (segunda a sexta). Com exceção de segunda-feira, só vemos valores acima de 5.000 em dias úteis. O trânsito é mais leve nos finais de semana, com valores abaixo de 4.000 carros."
      ],
      "metadata": {
        "id": "SDVGzR8vs1d4"
      }
    },
    {
      "cell_type": "markdown",
      "source": [
        "## Indicadores de tempo (III)\n",
        "Vamos agora ver quais valores temos com base na hora do dia. Os fins de semana, no entanto, arrastarão para baixo os valores médios, então vamos olhar apenas para as médias separadamente."
      ],
      "metadata": {
        "id": "M6r-N6RSs5Pa"
      }
    },
    {
      "cell_type": "code",
      "source": [
        "day['hour'] = day['date_time'].dt.hour\n",
        "bussiness_days = day.copy()[day['dayofweek'] <= 4] # 4 == Friday\n",
        "weekend = day.copy()[day['dayofweek'] >= 5] # 5 = Saturday\n",
        "by_hour_business = bussiness_days.groupby('hour').mean()\n",
        "by_hour_weekend = weekend.groupby('hour').mean()\n",
        "\n",
        "\n",
        "plt.figure(figsize=(11,3.5))\n",
        "\n",
        "plt.subplot(1, 2, 1)\n",
        "by_hour_business['traffic_volume'].plot.line()\n",
        "plt.xlim(6,20)\n",
        "plt.ylim(1500,6500)\n",
        "plt.title('Traffic Volume By Hour: Monday–Friday')\n",
        "\n",
        "plt.subplot(1, 2, 2)\n",
        "by_hour_weekend['traffic_volume'].plot.line()\n",
        "plt.xlim(6,20)\n",
        "plt.ylim(1500,6500)\n",
        "plt.title('Traffic Volume By Hour: Weekend')\n",
        "\n",
        "plt.show()"
      ],
      "metadata": {
        "colab": {
          "base_uri": "https://localhost:8080/",
          "height": 268
        },
        "id": "Tf-jikJKsxr1",
        "outputId": "098e83c2-88e1-467e-edf3-cb5c663ff116"
      },
      "execution_count": 15,
      "outputs": [
        {
          "output_type": "display_data",
          "data": {
            "text/plain": [
              "<Figure size 792x252 with 2 Axes>"
            ],
            "image/png": "[encoded data removed]"
          },
          "metadata": {
            "needs_background": "light"
          }
        }
      ]
    },
    {
      "cell_type": "markdown",
      "source": [
        "A cada hora do dia, o volume de tráfego é geralmente maior durante os dias úteis em comparação aos finais de semana. Como de alguma forma esperado, o  horário de pico é por volta das 7 e 16 – quando a maioria das pessoas viaja de casa para o trabalho e volta. Vemos volumes de mais de 6.000 carros nas horas de pico.\n",
        "\n",
        "Para resumir, encontramos alguns indicadores de tráfego intenso relacionados ao tempo:\n",
        "\n",
        "- O tráfego é geralmente mais intenso durante os meses quentes (março a outubro) em comparação com os meses frios (novembro a fevereiro).\n",
        "\n",
        "- O tráfego costuma ser mais intenso em dias úteis em comparação aos finais de semana.\n",
        "\n",
        "Nos dias úteis, as horas de ponta são por volta das 7 e 16."
      ],
      "metadata": {
        "id": "SpDTWWXht-sR"
      }
    },
    {
      "cell_type": "markdown",
      "source": [
        "## Indicadores climáticos\n",
        "\n",
        "Outro possível indicador de tráfego intenso é o clima. O conjunto de dados nos fornece algumas colunas úteis sobre clima: `temp`, `rain_1h`, `snow_1h`, `clouds_all`, `weather_main`, `weather_description`.\n",
        "\n",
        "Algumas dessas colunas são numéricas, então vamos começar procurando seus valores de correlação com `traffic_volume`."
      ],
      "metadata": {
        "id": "vvbCHMeiuPg6"
      }
    },
    {
      "cell_type": "code",
      "source": [
        "day.corr()['traffic_volume']"
      ],
      "metadata": {
        "colab": {
          "base_uri": "https://localhost:8080/"
        },
        "id": "zYD0QAnHs8Cw",
        "outputId": "c3e908cc-6279-4026-8316-a59d6839ffb6"
      },
      "execution_count": 16,
      "outputs": [
        {
          "output_type": "execute_result",
          "data": {
            "text/plain": [
              "temp              0.128317\n",
              "rain_1h           0.003697\n",
              "snow_1h           0.001265\n",
              "clouds_all       -0.032932\n",
              "traffic_volume    1.000000\n",
              "month            -0.022337\n",
              "year             -0.003557\n",
              "dayofweek        -0.416453\n",
              "hour              0.172704\n",
              "Name: traffic_volume, dtype: float64"
            ]
          },
          "metadata": {},
          "execution_count": 16
        }
      ]
    },
    {
      "cell_type": "markdown",
      "source": [
        "A temperatura mostra a correlação mais forte com um valor de apenas +0.13. As outras colunas relevantes (`rain_1h`, `snow_1h`, `clouds_all`) não mostram nenhuma correlação forte com `traffic_value`.\n",
        "\n",
        "Vamos gerar um gráfico de dispersão para visualizar a correlação entre temp e `traffic_volume`."
      ],
      "metadata": {
        "id": "WRQaiFwjumxL"
      }
    },
    {
      "cell_type": "code",
      "source": [
        "day.plot.scatter('traffic_volume', 'temp')\n",
        "plt.ylim(230, 320) # two wrong 0K temperatures mess up the y-axis\n",
        "plt.show()"
      ],
      "metadata": {
        "colab": {
          "base_uri": "https://localhost:8080/",
          "height": 284
        },
        "id": "RzflXzmruYiD",
        "outputId": "fd505f58-454d-4b35-d156-ff4123760a38"
      },
      "execution_count": 17,
      "outputs": [
        {
          "output_type": "display_data",
          "data": {
            "text/plain": [
              "<Figure size 432x288 with 1 Axes>"
            ],
            "image/png": "[encoded data removed]"
          },
          "metadata": {
            "needs_background": "light"
          }
        }
      ]
    },
    {
      "cell_type": "markdown",
      "source": [
        "Podemos concluir que a temperatura não parece um indicador sólido de tráfego intenso.\n",
        "\n",
        "Vejamos agora as outras colunas relacionadas ao clima: `weather_main` e `weather_description`."
      ],
      "metadata": {
        "id": "bc76h2qiu0C_"
      }
    },
    {
      "cell_type": "markdown",
      "source": [
        "## Tipos de clima\n",
        "Para começar, vamos agrupar os dados por weather_main e observar as médias do `traffic_volume`."
      ],
      "metadata": {
        "id": "Dac845X0u6pY"
      }
    },
    {
      "cell_type": "code",
      "source": [
        "by_weather_main = day.groupby('weather_main').mean()\n",
        "by_weather_main['traffic_volume'].plot.barh()\n",
        "plt.show()"
      ],
      "metadata": {
        "colab": {
          "base_uri": "https://localhost:8080/",
          "height": 265
        },
        "id": "wwfx2brvut8J",
        "outputId": "98ca27d2-c676-4f41-811a-a75e6034bef1"
      },
      "execution_count": 18,
      "outputs": [
        {
          "output_type": "display_data",
          "data": {
            "text/plain": [
              "<Figure size 432x288 with 1 Axes>"
            ],
            "image/png": "[encoded data removed]"
          },
          "metadata": {
            "needs_background": "light"
          }
        }
      ]
    },
    {
      "cell_type": "markdown",
      "source": [
        "Parece que não há nenhum tipo de clima em que o volume de tráfego exceda 5.000 carros. Isso torna mais difícil encontrar um indicador de tráfego pesado. Vamos também agrupar por `weather_description`, que tem uma classificação de clima mais granular."
      ],
      "metadata": {
        "id": "NYm2QEscvBTC"
      }
    },
    {
      "cell_type": "code",
      "source": [
        "by_weather_description = day.groupby('weather_description').mean()\n",
        "by_weather_description['traffic_volume'].plot.barh(figsize=(5,10))\n",
        "plt.show()"
      ],
      "metadata": {
        "colab": {
          "base_uri": "https://localhost:8080/",
          "height": 592
        },
        "id": "e1007VGUu_is",
        "outputId": "48e80f64-d2b1-494d-e519-38bde3dd58be"
      },
      "execution_count": 19,
      "outputs": [
        {
          "output_type": "display_data",
          "data": {
            "text/plain": [
              "<Figure size 360x720 with 1 Axes>"
            ],
            "image/png": "[encoded data removed]"
          },
          "metadata": {
            "needs_background": "light"
          }
        }
      ]
    },
    {
      "cell_type": "markdown",
      "source": [
        "Parece que existem três tipos de clima em que o volume de tráfego excede 5.000:\n",
        "\n",
        "- Chuva de neve\n",
        "- Chuva leve e neve\n",
        "- Tempestade de proximidade com chuvisco\n",
        "\n",
        "Não está claro por que esses tipos de clima têm os valores médios de tráfego mais altos - esse é um clima ruim, mas não tão ruim assim. Talvez mais pessoas tirem seus carros da garagem quando o tempo estiver ruim em vez de andar de bicicleta ou caminhar."
      ],
      "metadata": {
        "id": "YwFe6JexvUnl"
      }
    },
    {
      "cell_type": "markdown",
      "source": [
        "## Conclusão\n",
        "Neste projeto, tentamos encontrar alguns indicadores de tráfego intenso na rodovia interestadual I-94. Conseguimos encontrar dois tipos de indicadores:\n",
        "\n",
        "- Indicadores de tempo\n",
        "  * O tráfego é geralmente mais intenso durante os meses quentes (março a outubro) em comparação com os meses frios (novembro a fevereiro).\n",
        "  * O tráfego costuma ser mais intenso em dias úteis em comparação aos finais de semana.\n",
        "  * Nos dias úteis, as horas de ponta são por volta das 7 e 16.\n",
        "\n",
        "- Indicadores climáticos\n",
        "  * Chuva de neve\n",
        "  * Chuva leve e neve\n",
        "  * Tempestade de proximidade com chuvisco"
      ],
      "metadata": {
        "id": "I3KfNQOnvdGI"
      }
    }
  ]
}