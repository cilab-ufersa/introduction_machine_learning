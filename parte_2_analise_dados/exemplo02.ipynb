{
  "nbformat": 4,
  "nbformat_minor": 0,
  "metadata": {
    "colab": {
      "provenance": []
    },
    "kernelspec": {
      "name": "python3",
      "display_name": "Python 3"
    },
    "language_info": {
      "name": "python"
    }
  },
  "cells": [
    {
      "cell_type": "code",
      "execution_count": null,
      "metadata": {
        "colab": {
          "base_uri": "https://localhost:8080/"
        },
        "id": "rb9ShvKaU92g",
        "outputId": "a5298229-6a20-44e3-e9c3-0239ca987deb"
      },
      "outputs": [
        {
          "output_type": "execute_result",
          "data": {
            "text/plain": [
              "5250.0"
            ]
          },
          "metadata": {},
          "execution_count": 38
        }
      ],
      "source": [
        "import pandas as pd\n",
        "import matplotlib.pyplot as plt\n",
        "\n",
        "dados = {'Nome': ['Ana', 'Bruno', 'Carlos', 'Diego', 'Eduarda', 'Fabio', 'Giovana', 'Helena', 'Isabela', 'João'],\n",
        "'Cargo': ['Desenvolvedor', 'Analista de Dados', 'Gerente de Projetos', 'Analista de Sistemas', 'Desenvolvedor', 'Analista de Sistemas', 'Gerente de TI', 'Desenvolvedor', 'Analista de Sistemas', 'Analista de Dados'],\n",
        "'Data_Contrato': ['01/01/2018', '15/03/2019', '10/05/2016', '22/09/2017', '05/11/2018', '30/06/2019', '18/02/2015', '01/01/2020', '15/03/2018', '10/05/2019'],\n",
        "'Sexo': ['Feminino', 'Masculino', 'Masculino', 'Masculino', 'Feminino', 'Masculino', 'Feminino', 'Feminino', 'Feminino', 'Masculino'],\n",
        "'Idade': [25, 28, 35, 31, 27, 32, 29, 26, 30, 27],\n",
        "'Salario': [5000, 6000, 8000, 7000, 5500, 6500, 10000, 5500, 6500, 6000]}\n",
        "\n",
        "df = pd.DataFrame(dados)\n",
        "\n",
        "media_salario = df.loc[df['Idade'] < 27, 'Salario']\n",
        "\n",
        "media_salario.mean()\n",
        "\n"
      ]
    }
  ]
}